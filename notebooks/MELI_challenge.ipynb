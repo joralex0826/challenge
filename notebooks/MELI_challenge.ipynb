{
 "cells": [
  {
   "cell_type": "markdown",
   "metadata": {},
   "source": [
    "# MELI DATA SCIENCE CHALLENGE"
   ]
  },
  {
   "cell_type": "markdown",
   "metadata": {},
   "source": [
    "## Load and split data"
   ]
  },
  {
   "cell_type": "code",
   "execution_count": 12,
   "metadata": {},
   "outputs": [],
   "source": [
    "import pandas as pd\n",
    "import numpy as np\n",
    "\n",
    "data = pd.read_json('MLA_100k_checked_v3.jsonlines', lines=True)"
   ]
  },
  {
   "cell_type": "code",
   "execution_count": 13,
   "metadata": {},
   "outputs": [
    {
     "data": {
      "text/html": [
       "<div>\n",
       "<style scoped>\n",
       "    .dataframe tbody tr th:only-of-type {\n",
       "        vertical-align: middle;\n",
       "    }\n",
       "\n",
       "    .dataframe tbody tr th {\n",
       "        vertical-align: top;\n",
       "    }\n",
       "\n",
       "    .dataframe thead th {\n",
       "        text-align: right;\n",
       "    }\n",
       "</style>\n",
       "<table border=\"1\" class=\"dataframe\">\n",
       "  <thead>\n",
       "    <tr style=\"text-align: right;\">\n",
       "      <th></th>\n",
       "      <th>seller_address</th>\n",
       "      <th>warranty</th>\n",
       "      <th>sub_status</th>\n",
       "      <th>condition</th>\n",
       "      <th>deal_ids</th>\n",
       "      <th>base_price</th>\n",
       "      <th>shipping</th>\n",
       "      <th>non_mercado_pago_payment_methods</th>\n",
       "      <th>seller_id</th>\n",
       "      <th>variations</th>\n",
       "      <th>...</th>\n",
       "      <th>stop_time</th>\n",
       "      <th>status</th>\n",
       "      <th>video_id</th>\n",
       "      <th>catalog_product_id</th>\n",
       "      <th>subtitle</th>\n",
       "      <th>initial_quantity</th>\n",
       "      <th>start_time</th>\n",
       "      <th>permalink</th>\n",
       "      <th>sold_quantity</th>\n",
       "      <th>available_quantity</th>\n",
       "    </tr>\n",
       "  </thead>\n",
       "  <tbody>\n",
       "    <tr>\n",
       "      <th>0</th>\n",
       "      <td>{'country': {'name': 'Argentina', 'id': 'AR'},...</td>\n",
       "      <td>None</td>\n",
       "      <td>[]</td>\n",
       "      <td>new</td>\n",
       "      <td>[]</td>\n",
       "      <td>80.0</td>\n",
       "      <td>{'local_pick_up': True, 'methods': [], 'tags':...</td>\n",
       "      <td>[{'description': 'Transferencia bancaria', 'id...</td>\n",
       "      <td>8208882349</td>\n",
       "      <td>[]</td>\n",
       "      <td>...</td>\n",
       "      <td>2015-11-04 20:42:53</td>\n",
       "      <td>active</td>\n",
       "      <td>None</td>\n",
       "      <td>NaN</td>\n",
       "      <td>NaN</td>\n",
       "      <td>1</td>\n",
       "      <td>2015-09-05 20:42:53</td>\n",
       "      <td>http://articulo.mercadolibre.com.ar/MLA4695330...</td>\n",
       "      <td>0</td>\n",
       "      <td>1</td>\n",
       "    </tr>\n",
       "    <tr>\n",
       "      <th>1</th>\n",
       "      <td>{'country': {'name': 'Argentina', 'id': 'AR'},...</td>\n",
       "      <td>NUESTRA REPUTACION</td>\n",
       "      <td>[]</td>\n",
       "      <td>used</td>\n",
       "      <td>[]</td>\n",
       "      <td>2650.0</td>\n",
       "      <td>{'local_pick_up': True, 'methods': [], 'tags':...</td>\n",
       "      <td>[{'description': 'Transferencia bancaria', 'id...</td>\n",
       "      <td>8141699488</td>\n",
       "      <td>[]</td>\n",
       "      <td>...</td>\n",
       "      <td>2015-11-25 18:08:30</td>\n",
       "      <td>active</td>\n",
       "      <td>None</td>\n",
       "      <td>NaN</td>\n",
       "      <td>NaN</td>\n",
       "      <td>1</td>\n",
       "      <td>2015-09-26 18:08:30</td>\n",
       "      <td>http://articulo.mercadolibre.com.ar/MLA7160447...</td>\n",
       "      <td>0</td>\n",
       "      <td>1</td>\n",
       "    </tr>\n",
       "    <tr>\n",
       "      <th>2</th>\n",
       "      <td>{'country': {'name': 'Argentina', 'id': 'AR'},...</td>\n",
       "      <td>None</td>\n",
       "      <td>[]</td>\n",
       "      <td>used</td>\n",
       "      <td>[]</td>\n",
       "      <td>60.0</td>\n",
       "      <td>{'local_pick_up': True, 'methods': [], 'tags':...</td>\n",
       "      <td>[{'description': 'Transferencia bancaria', 'id...</td>\n",
       "      <td>8386096505</td>\n",
       "      <td>[]</td>\n",
       "      <td>...</td>\n",
       "      <td>2015-11-08 23:57:07</td>\n",
       "      <td>active</td>\n",
       "      <td>None</td>\n",
       "      <td>NaN</td>\n",
       "      <td>NaN</td>\n",
       "      <td>1</td>\n",
       "      <td>2015-09-09 23:57:07</td>\n",
       "      <td>http://articulo.mercadolibre.com.ar/MLA7367189...</td>\n",
       "      <td>0</td>\n",
       "      <td>1</td>\n",
       "    </tr>\n",
       "  </tbody>\n",
       "</table>\n",
       "<p>3 rows × 45 columns</p>\n",
       "</div>"
      ],
      "text/plain": [
       "                                      seller_address            warranty  \\\n",
       "0  {'country': {'name': 'Argentina', 'id': 'AR'},...                None   \n",
       "1  {'country': {'name': 'Argentina', 'id': 'AR'},...  NUESTRA REPUTACION   \n",
       "2  {'country': {'name': 'Argentina', 'id': 'AR'},...                None   \n",
       "\n",
       "  sub_status condition deal_ids  base_price  \\\n",
       "0         []       new       []        80.0   \n",
       "1         []      used       []      2650.0   \n",
       "2         []      used       []        60.0   \n",
       "\n",
       "                                            shipping  \\\n",
       "0  {'local_pick_up': True, 'methods': [], 'tags':...   \n",
       "1  {'local_pick_up': True, 'methods': [], 'tags':...   \n",
       "2  {'local_pick_up': True, 'methods': [], 'tags':...   \n",
       "\n",
       "                    non_mercado_pago_payment_methods   seller_id variations  \\\n",
       "0  [{'description': 'Transferencia bancaria', 'id...  8208882349         []   \n",
       "1  [{'description': 'Transferencia bancaria', 'id...  8141699488         []   \n",
       "2  [{'description': 'Transferencia bancaria', 'id...  8386096505         []   \n",
       "\n",
       "   ...           stop_time  status  video_id catalog_product_id subtitle  \\\n",
       "0  ... 2015-11-04 20:42:53  active      None                NaN      NaN   \n",
       "1  ... 2015-11-25 18:08:30  active      None                NaN      NaN   \n",
       "2  ... 2015-11-08 23:57:07  active      None                NaN      NaN   \n",
       "\n",
       "  initial_quantity          start_time  \\\n",
       "0                1 2015-09-05 20:42:53   \n",
       "1                1 2015-09-26 18:08:30   \n",
       "2                1 2015-09-09 23:57:07   \n",
       "\n",
       "                                           permalink sold_quantity  \\\n",
       "0  http://articulo.mercadolibre.com.ar/MLA4695330...             0   \n",
       "1  http://articulo.mercadolibre.com.ar/MLA7160447...             0   \n",
       "2  http://articulo.mercadolibre.com.ar/MLA7367189...             0   \n",
       "\n",
       "  available_quantity  \n",
       "0                  1  \n",
       "1                  1  \n",
       "2                  1  \n",
       "\n",
       "[3 rows x 45 columns]"
      ]
     },
     "execution_count": 13,
     "metadata": {},
     "output_type": "execute_result"
    }
   ],
   "source": [
    "data.head(3)"
   ]
  },
  {
   "cell_type": "code",
   "execution_count": 14,
   "metadata": {},
   "outputs": [
    {
     "data": {
      "text/plain": [
       "Index(['seller_address', 'warranty', 'sub_status', 'condition', 'deal_ids',\n",
       "       'base_price', 'shipping', 'non_mercado_pago_payment_methods',\n",
       "       'seller_id', 'variations', 'site_id', 'listing_type_id', 'price',\n",
       "       'attributes', 'buying_mode', 'tags', 'listing_source', 'parent_item_id',\n",
       "       'coverage_areas', 'category_id', 'descriptions', 'last_updated',\n",
       "       'international_delivery_mode', 'pictures', 'id', 'official_store_id',\n",
       "       'differential_pricing', 'accepts_mercadopago', 'original_price',\n",
       "       'currency_id', 'thumbnail', 'title', 'automatic_relist', 'date_created',\n",
       "       'secure_thumbnail', 'stop_time', 'status', 'video_id',\n",
       "       'catalog_product_id', 'subtitle', 'initial_quantity', 'start_time',\n",
       "       'permalink', 'sold_quantity', 'available_quantity'],\n",
       "      dtype='object')"
      ]
     },
     "execution_count": 14,
     "metadata": {},
     "output_type": "execute_result"
    }
   ],
   "source": [
    "data.columns"
   ]
  },
  {
   "cell_type": "code",
   "execution_count": 15,
   "metadata": {},
   "outputs": [
    {
     "name": "stdout",
     "output_type": "stream",
     "text": [
      "(90000, 45) (10000, 45)\n"
     ]
    }
   ],
   "source": [
    "N = -10000\n",
    "data_train = data[:N]\n",
    "data_test = data[N:]\n",
    "print(data_train.shape, data_test.shape)"
   ]
  },
  {
   "cell_type": "markdown",
   "metadata": {},
   "source": [
    "## Exploratory Data Analysis"
   ]
  },
  {
   "cell_type": "code",
   "execution_count": 16,
   "metadata": {},
   "outputs": [
    {
     "data": {
      "text/html": [
       "<div>\n",
       "<style scoped>\n",
       "    .dataframe tbody tr th:only-of-type {\n",
       "        vertical-align: middle;\n",
       "    }\n",
       "\n",
       "    .dataframe tbody tr th {\n",
       "        vertical-align: top;\n",
       "    }\n",
       "\n",
       "    .dataframe thead th {\n",
       "        text-align: right;\n",
       "    }\n",
       "</style>\n",
       "<table border=\"1\" class=\"dataframe\">\n",
       "  <thead>\n",
       "    <tr style=\"text-align: right;\">\n",
       "      <th></th>\n",
       "      <th>base_price</th>\n",
       "      <th>seller_id</th>\n",
       "      <th>price</th>\n",
       "      <th>official_store_id</th>\n",
       "      <th>differential_pricing</th>\n",
       "      <th>original_price</th>\n",
       "      <th>catalog_product_id</th>\n",
       "      <th>subtitle</th>\n",
       "      <th>initial_quantity</th>\n",
       "      <th>sold_quantity</th>\n",
       "      <th>available_quantity</th>\n",
       "    </tr>\n",
       "  </thead>\n",
       "  <tbody>\n",
       "    <tr>\n",
       "      <th>count</th>\n",
       "      <td>9.000000e+04</td>\n",
       "      <td>9.000000e+04</td>\n",
       "      <td>9.000000e+04</td>\n",
       "      <td>745.000000</td>\n",
       "      <td>0.0</td>\n",
       "      <td>130.000000</td>\n",
       "      <td>7.000000e+00</td>\n",
       "      <td>0.0</td>\n",
       "      <td>90000.000000</td>\n",
       "      <td>90000.000000</td>\n",
       "      <td>90000.000000</td>\n",
       "    </tr>\n",
       "    <tr>\n",
       "      <th>mean</th>\n",
       "      <td>5.781341e+04</td>\n",
       "      <td>5.487386e+09</td>\n",
       "      <td>5.781352e+04</td>\n",
       "      <td>5802.018792</td>\n",
       "      <td>NaN</td>\n",
       "      <td>1492.522308</td>\n",
       "      <td>2.895700e+06</td>\n",
       "      <td>NaN</td>\n",
       "      <td>34.957178</td>\n",
       "      <td>2.328044</td>\n",
       "      <td>34.700767</td>\n",
       "    </tr>\n",
       "    <tr>\n",
       "      <th>std</th>\n",
       "      <td>9.089555e+06</td>\n",
       "      <td>2.587140e+09</td>\n",
       "      <td>9.089555e+06</td>\n",
       "      <td>2657.056302</td>\n",
       "      <td>NaN</td>\n",
       "      <td>1954.905741</td>\n",
       "      <td>1.919771e+06</td>\n",
       "      <td>NaN</td>\n",
       "      <td>421.091981</td>\n",
       "      <td>33.839328</td>\n",
       "      <td>420.811703</td>\n",
       "    </tr>\n",
       "    <tr>\n",
       "      <th>min</th>\n",
       "      <td>8.400000e-01</td>\n",
       "      <td>1.000319e+09</td>\n",
       "      <td>8.400000e-01</td>\n",
       "      <td>1024.000000</td>\n",
       "      <td>NaN</td>\n",
       "      <td>120.000000</td>\n",
       "      <td>9.440400e+04</td>\n",
       "      <td>NaN</td>\n",
       "      <td>1.000000</td>\n",
       "      <td>0.000000</td>\n",
       "      <td>1.000000</td>\n",
       "    </tr>\n",
       "    <tr>\n",
       "      <th>25%</th>\n",
       "      <td>9.000000e+01</td>\n",
       "      <td>3.184875e+09</td>\n",
       "      <td>9.000000e+01</td>\n",
       "      <td>3590.000000</td>\n",
       "      <td>NaN</td>\n",
       "      <td>449.000000</td>\n",
       "      <td>1.925518e+06</td>\n",
       "      <td>NaN</td>\n",
       "      <td>1.000000</td>\n",
       "      <td>0.000000</td>\n",
       "      <td>1.000000</td>\n",
       "    </tr>\n",
       "    <tr>\n",
       "      <th>50%</th>\n",
       "      <td>2.500000e+02</td>\n",
       "      <td>5.512496e+09</td>\n",
       "      <td>2.500000e+02</td>\n",
       "      <td>6158.000000</td>\n",
       "      <td>NaN</td>\n",
       "      <td>850.000000</td>\n",
       "      <td>3.051112e+06</td>\n",
       "      <td>NaN</td>\n",
       "      <td>1.000000</td>\n",
       "      <td>0.000000</td>\n",
       "      <td>1.000000</td>\n",
       "    </tr>\n",
       "    <tr>\n",
       "      <th>75%</th>\n",
       "      <td>8.000000e+02</td>\n",
       "      <td>7.704930e+09</td>\n",
       "      <td>8.000000e+02</td>\n",
       "      <td>8216.000000</td>\n",
       "      <td>NaN</td>\n",
       "      <td>1500.000000</td>\n",
       "      <td>4.073615e+06</td>\n",
       "      <td>NaN</td>\n",
       "      <td>2.000000</td>\n",
       "      <td>0.000000</td>\n",
       "      <td>2.000000</td>\n",
       "    </tr>\n",
       "    <tr>\n",
       "      <th>max</th>\n",
       "      <td>2.222222e+09</td>\n",
       "      <td>9.999853e+09</td>\n",
       "      <td>2.222222e+09</td>\n",
       "      <td>9996.000000</td>\n",
       "      <td>NaN</td>\n",
       "      <td>12248.000000</td>\n",
       "      <td>5.126117e+06</td>\n",
       "      <td>NaN</td>\n",
       "      <td>9999.000000</td>\n",
       "      <td>6065.000000</td>\n",
       "      <td>9999.000000</td>\n",
       "    </tr>\n",
       "  </tbody>\n",
       "</table>\n",
       "</div>"
      ],
      "text/plain": [
       "         base_price     seller_id         price  official_store_id  \\\n",
       "count  9.000000e+04  9.000000e+04  9.000000e+04         745.000000   \n",
       "mean   5.781341e+04  5.487386e+09  5.781352e+04        5802.018792   \n",
       "std    9.089555e+06  2.587140e+09  9.089555e+06        2657.056302   \n",
       "min    8.400000e-01  1.000319e+09  8.400000e-01        1024.000000   \n",
       "25%    9.000000e+01  3.184875e+09  9.000000e+01        3590.000000   \n",
       "50%    2.500000e+02  5.512496e+09  2.500000e+02        6158.000000   \n",
       "75%    8.000000e+02  7.704930e+09  8.000000e+02        8216.000000   \n",
       "max    2.222222e+09  9.999853e+09  2.222222e+09        9996.000000   \n",
       "\n",
       "       differential_pricing  original_price  catalog_product_id  subtitle  \\\n",
       "count                   0.0      130.000000        7.000000e+00       0.0   \n",
       "mean                    NaN     1492.522308        2.895700e+06       NaN   \n",
       "std                     NaN     1954.905741        1.919771e+06       NaN   \n",
       "min                     NaN      120.000000        9.440400e+04       NaN   \n",
       "25%                     NaN      449.000000        1.925518e+06       NaN   \n",
       "50%                     NaN      850.000000        3.051112e+06       NaN   \n",
       "75%                     NaN     1500.000000        4.073615e+06       NaN   \n",
       "max                     NaN    12248.000000        5.126117e+06       NaN   \n",
       "\n",
       "       initial_quantity  sold_quantity  available_quantity  \n",
       "count      90000.000000   90000.000000        90000.000000  \n",
       "mean          34.957178       2.328044           34.700767  \n",
       "std          421.091981      33.839328          420.811703  \n",
       "min            1.000000       0.000000            1.000000  \n",
       "25%            1.000000       0.000000            1.000000  \n",
       "50%            1.000000       0.000000            1.000000  \n",
       "75%            2.000000       0.000000            2.000000  \n",
       "max         9999.000000    6065.000000         9999.000000  "
      ]
     },
     "execution_count": 16,
     "metadata": {},
     "output_type": "execute_result"
    }
   ],
   "source": [
    "# Description of data (only numeric variables, categorical and special variables will be analyzed later)\n",
    "data_train.describe()"
   ]
  },
  {
   "cell_type": "code",
   "execution_count": 17,
   "metadata": {},
   "outputs": [
    {
     "name": "stdout",
     "output_type": "stream",
     "text": [
      "<class 'pandas.core.frame.DataFrame'>\n",
      "RangeIndex: 90000 entries, 0 to 89999\n",
      "Data columns (total 45 columns):\n",
      " #   Column                            Non-Null Count  Dtype         \n",
      "---  ------                            --------------  -----         \n",
      " 0   seller_address                    90000 non-null  object        \n",
      " 1   warranty                          35243 non-null  object        \n",
      " 2   sub_status                        90000 non-null  object        \n",
      " 3   condition                         90000 non-null  object        \n",
      " 4   deal_ids                          90000 non-null  object        \n",
      " 5   base_price                        90000 non-null  float64       \n",
      " 6   shipping                          90000 non-null  object        \n",
      " 7   non_mercado_pago_payment_methods  90000 non-null  object        \n",
      " 8   seller_id                         90000 non-null  int64         \n",
      " 9   variations                        90000 non-null  object        \n",
      " 10  site_id                           90000 non-null  object        \n",
      " 11  listing_type_id                   90000 non-null  object        \n",
      " 12  price                             90000 non-null  float64       \n",
      " 13  attributes                        90000 non-null  object        \n",
      " 14  buying_mode                       90000 non-null  object        \n",
      " 15  tags                              90000 non-null  object        \n",
      " 16  listing_source                    90000 non-null  object        \n",
      " 17  parent_item_id                    69310 non-null  object        \n",
      " 18  coverage_areas                    90000 non-null  object        \n",
      " 19  category_id                       90000 non-null  object        \n",
      " 20  descriptions                      90000 non-null  object        \n",
      " 21  last_updated                      90000 non-null  object        \n",
      " 22  international_delivery_mode       90000 non-null  object        \n",
      " 23  pictures                          90000 non-null  object        \n",
      " 24  id                                90000 non-null  object        \n",
      " 25  official_store_id                 745 non-null    float64       \n",
      " 26  differential_pricing              0 non-null      float64       \n",
      " 27  accepts_mercadopago               90000 non-null  bool          \n",
      " 28  original_price                    130 non-null    float64       \n",
      " 29  currency_id                       90000 non-null  object        \n",
      " 30  thumbnail                         90000 non-null  object        \n",
      " 31  title                             90000 non-null  object        \n",
      " 32  automatic_relist                  90000 non-null  bool          \n",
      " 33  date_created                      90000 non-null  object        \n",
      " 34  secure_thumbnail                  90000 non-null  object        \n",
      " 35  stop_time                         90000 non-null  datetime64[ns]\n",
      " 36  status                            90000 non-null  object        \n",
      " 37  video_id                          2676 non-null   object        \n",
      " 38  catalog_product_id                7 non-null      float64       \n",
      " 39  subtitle                          0 non-null      float64       \n",
      " 40  initial_quantity                  90000 non-null  int64         \n",
      " 41  start_time                        90000 non-null  datetime64[ns]\n",
      " 42  permalink                         90000 non-null  object        \n",
      " 43  sold_quantity                     90000 non-null  int64         \n",
      " 44  available_quantity                90000 non-null  int64         \n",
      "dtypes: bool(2), datetime64[ns](2), float64(7), int64(4), object(30)\n",
      "memory usage: 29.7+ MB\n"
     ]
    }
   ],
   "source": [
    "# General info of the data: data types of each column and null values count\n",
    "data_train.info()"
   ]
  },
  {
   "cell_type": "code",
   "execution_count": 18,
   "metadata": {},
   "outputs": [
    {
     "data": {
      "text/plain": [
       "new     48352\n",
       "used    41648\n",
       "Name: condition, dtype: int64"
      ]
     },
     "execution_count": 18,
     "metadata": {},
     "output_type": "execute_result"
    }
   ],
   "source": [
    "# The dataset it's not specially unbalanced, we can continue working with that data. It is possible work with undersampling or oversampling techniches, \n",
    "# however, since this could introduce bias, I do not see it as necessary in this case\n",
    "data_train.condition.value_counts()"
   ]
  },
  {
   "cell_type": "code",
   "execution_count": 19,
   "metadata": {},
   "outputs": [
    {
     "name": "stdout",
     "output_type": "stream",
     "text": [
      "Columns with dict data type: ['seller_address', 'shipping']\n",
      "Columns with list data type: ['sub_status', 'deal_ids', 'non_mercado_pago_payment_methods', 'variations', 'attributes', 'tags', 'coverage_areas', 'descriptions', 'pictures']\n",
      "Columns with string data type: ['warranty', 'condition', 'site_id', 'listing_type_id', 'buying_mode', 'listing_source', 'parent_item_id', 'category_id', 'last_updated', 'international_delivery_mode', 'id', 'currency_id', 'thumbnail', 'title', 'date_created', 'secure_thumbnail', 'status', 'video_id', 'permalink']\n",
      "Columns with other data type: ['base_price', 'seller_id', 'price', 'official_store_id', 'differential_pricing', 'accepts_mercadopago', 'original_price', 'automatic_relist', 'stop_time', 'catalog_product_id', 'subtitle', 'initial_quantity', 'start_time', 'sold_quantity', 'available_quantity']\n"
     ]
    }
   ],
   "source": [
    "# Code to get columns with special data types, the result columns will be analyzed in detail\n",
    "columns_with_dict = []\n",
    "columns_with_list = []\n",
    "columns_with_string = []\n",
    "remaining_columns = []\n",
    "\n",
    "for column in data_train.columns:\n",
    "    if data_train[column].apply(lambda x: isinstance(x, dict)).any():\n",
    "        columns_with_dict.append(column)\n",
    "    elif data_train[column].apply(lambda x: isinstance(x, list)).any():\n",
    "        columns_with_list.append(column)\n",
    "    elif data_train[column].apply(lambda x: isinstance(x, str)).any():\n",
    "        columns_with_string.append(column)\n",
    "    else:\n",
    "        remaining_columns.append(column)\n",
    "\n",
    "print(\"Columns with dict data type:\", columns_with_dict)\n",
    "print(\"Columns with list data type:\", columns_with_list)\n",
    "print(\"Columns with string data type:\", columns_with_string)\n",
    "print(\"Columns with other data type:\", remaining_columns)\n"
   ]
  },
  {
   "cell_type": "markdown",
   "metadata": {},
   "source": [
    "### Columns with lists analysis"
   ]
  },
  {
   "cell_type": "code",
   "execution_count": 20,
   "metadata": {},
   "outputs": [
    {
     "data": {
      "text/html": [
       "<div>\n",
       "<style scoped>\n",
       "    .dataframe tbody tr th:only-of-type {\n",
       "        vertical-align: middle;\n",
       "    }\n",
       "\n",
       "    .dataframe tbody tr th {\n",
       "        vertical-align: top;\n",
       "    }\n",
       "\n",
       "    .dataframe thead th {\n",
       "        text-align: right;\n",
       "    }\n",
       "</style>\n",
       "<table border=\"1\" class=\"dataframe\">\n",
       "  <thead>\n",
       "    <tr style=\"text-align: right;\">\n",
       "      <th></th>\n",
       "      <th>sub_status</th>\n",
       "      <th>deal_ids</th>\n",
       "      <th>non_mercado_pago_payment_methods</th>\n",
       "      <th>variations</th>\n",
       "      <th>attributes</th>\n",
       "      <th>tags</th>\n",
       "      <th>coverage_areas</th>\n",
       "      <th>descriptions</th>\n",
       "      <th>pictures</th>\n",
       "    </tr>\n",
       "  </thead>\n",
       "  <tbody>\n",
       "    <tr>\n",
       "      <th>0</th>\n",
       "      <td>[]</td>\n",
       "      <td>[]</td>\n",
       "      <td>[{'description': 'Transferencia bancaria', 'id...</td>\n",
       "      <td>[]</td>\n",
       "      <td>[]</td>\n",
       "      <td>[dragged_bids_and_visits]</td>\n",
       "      <td>[]</td>\n",
       "      <td>[{'id': 'MLA4695330653-912855983'}]</td>\n",
       "      <td>[{'size': '500x375', 'secure_url': 'https://a2...</td>\n",
       "    </tr>\n",
       "    <tr>\n",
       "      <th>1</th>\n",
       "      <td>[]</td>\n",
       "      <td>[]</td>\n",
       "      <td>[{'description': 'Transferencia bancaria', 'id...</td>\n",
       "      <td>[]</td>\n",
       "      <td>[]</td>\n",
       "      <td>[]</td>\n",
       "      <td>[]</td>\n",
       "      <td>[{'id': 'MLA7160447179-930764806'}]</td>\n",
       "      <td>[{'size': '499x334', 'secure_url': 'https://a2...</td>\n",
       "    </tr>\n",
       "    <tr>\n",
       "      <th>2</th>\n",
       "      <td>[]</td>\n",
       "      <td>[]</td>\n",
       "      <td>[{'description': 'Transferencia bancaria', 'id...</td>\n",
       "      <td>[]</td>\n",
       "      <td>[]</td>\n",
       "      <td>[dragged_bids_and_visits]</td>\n",
       "      <td>[]</td>\n",
       "      <td>[{'id': 'MLA7367189936-916478256'}]</td>\n",
       "      <td>[{'size': '375x500', 'secure_url': 'https://a2...</td>\n",
       "    </tr>\n",
       "    <tr>\n",
       "      <th>3</th>\n",
       "      <td>[]</td>\n",
       "      <td>[]</td>\n",
       "      <td>[{'description': 'Transferencia bancaria', 'id...</td>\n",
       "      <td>[]</td>\n",
       "      <td>[]</td>\n",
       "      <td>[]</td>\n",
       "      <td>[]</td>\n",
       "      <td>[{'id': 'MLA9191625553-932309698'}]</td>\n",
       "      <td>[{'size': '441x423', 'secure_url': 'https://a2...</td>\n",
       "    </tr>\n",
       "    <tr>\n",
       "      <th>4</th>\n",
       "      <td>[]</td>\n",
       "      <td>[]</td>\n",
       "      <td>[{'description': 'Transferencia bancaria', 'id...</td>\n",
       "      <td>[]</td>\n",
       "      <td>[]</td>\n",
       "      <td>[dragged_bids_and_visits]</td>\n",
       "      <td>[]</td>\n",
       "      <td>[{'id': 'MLA7787961817-902981678'}]</td>\n",
       "      <td>[{'size': '375x500', 'secure_url': 'https://a2...</td>\n",
       "    </tr>\n",
       "  </tbody>\n",
       "</table>\n",
       "</div>"
      ],
      "text/plain": [
       "  sub_status deal_ids                   non_mercado_pago_payment_methods  \\\n",
       "0         []       []  [{'description': 'Transferencia bancaria', 'id...   \n",
       "1         []       []  [{'description': 'Transferencia bancaria', 'id...   \n",
       "2         []       []  [{'description': 'Transferencia bancaria', 'id...   \n",
       "3         []       []  [{'description': 'Transferencia bancaria', 'id...   \n",
       "4         []       []  [{'description': 'Transferencia bancaria', 'id...   \n",
       "\n",
       "  variations attributes                       tags coverage_areas  \\\n",
       "0         []         []  [dragged_bids_and_visits]             []   \n",
       "1         []         []                         []             []   \n",
       "2         []         []  [dragged_bids_and_visits]             []   \n",
       "3         []         []                         []             []   \n",
       "4         []         []  [dragged_bids_and_visits]             []   \n",
       "\n",
       "                          descriptions  \\\n",
       "0  [{'id': 'MLA4695330653-912855983'}]   \n",
       "1  [{'id': 'MLA7160447179-930764806'}]   \n",
       "2  [{'id': 'MLA7367189936-916478256'}]   \n",
       "3  [{'id': 'MLA9191625553-932309698'}]   \n",
       "4  [{'id': 'MLA7787961817-902981678'}]   \n",
       "\n",
       "                                            pictures  \n",
       "0  [{'size': '500x375', 'secure_url': 'https://a2...  \n",
       "1  [{'size': '499x334', 'secure_url': 'https://a2...  \n",
       "2  [{'size': '375x500', 'secure_url': 'https://a2...  \n",
       "3  [{'size': '441x423', 'secure_url': 'https://a2...  \n",
       "4  [{'size': '375x500', 'secure_url': 'https://a2...  "
      ]
     },
     "execution_count": 20,
     "metadata": {},
     "output_type": "execute_result"
    }
   ],
   "source": [
    "data_list = data_train[columns_with_list]\n",
    "data_list.head()"
   ]
  },
  {
   "cell_type": "code",
   "execution_count": 21,
   "metadata": {},
   "outputs": [
    {
     "name": "stderr",
     "output_type": "stream",
     "text": [
      "C:\\Users\\joral_08cedew\\AppData\\Local\\Temp\\ipykernel_16896\\4261305385.py:6: SettingWithCopyWarning: \n",
      "A value is trying to be set on a copy of a slice from a DataFrame.\n",
      "Try using .loc[row_indexer,col_indexer] = value instead\n",
      "\n",
      "See the caveats in the documentation: https://pandas.pydata.org/pandas-docs/stable/user_guide/indexing.html#returning-a-view-versus-a-copy\n",
      "  data_list[column] = data_list[column].apply(lambda x: ', '.join(map(str, x)) if isinstance(x, list) else x)\n"
     ]
    }
   ],
   "source": [
    "# There are some variables with lists, but they have dicts inside them. First, we analize the other cases.\n",
    "\n",
    "columns_to_convert = ['sub_status', 'deal_ids','tags', 'coverage_areas']\n",
    "\n",
    "for column in columns_to_convert:\n",
    "    data_list[column] = data_list[column].apply(lambda x: ', '.join(map(str, x)) if isinstance(x, list) else x)"
   ]
  },
  {
   "cell_type": "code",
   "execution_count": 22,
   "metadata": {},
   "outputs": [
    {
     "name": "stdout",
     "output_type": "stream",
     "text": [
      "             89109\n",
      "suspended      871\n",
      "expired         13\n",
      "deleted          7\n",
      "Name: sub_status, dtype: int64\n",
      "         89783\n",
      "MOSH6       52\n",
      "WGPLA       36\n",
      "ABQ1I       27\n",
      "15H9O       26\n",
      "LZFND       22\n",
      "JXLIQ        6\n",
      "MISCR        6\n",
      "CHMGI        6\n",
      "R99GD        5\n",
      "AZEBL        3\n",
      "GRMWV        2\n",
      "GAC6A        2\n",
      "UUINF        2\n",
      "ZZMKC        2\n",
      "UKXWI        2\n",
      "UQU1U        2\n",
      "VYYJI        2\n",
      "BBLRY        2\n",
      "W40QU        1\n",
      "QXDHA        1\n",
      "F9G6U        1\n",
      "SI7I0        1\n",
      "YOLH8        1\n",
      "805OS        1\n",
      "ZZHBN        1\n",
      "Y3MPW        1\n",
      "7FOQD        1\n",
      "WO4YE        1\n",
      "PPW2S        1\n",
      "CULNX        1\n",
      "Name: deal_ids, dtype: int64\n",
      "dragged_bids_and_visits                            65315\n",
      "                                                   22412\n",
      "good_quality_thumbnail, dragged_bids_and_visits     1191\n",
      "dragged_visits                                       464\n",
      "good_quality_thumbnail                               346\n",
      "dragged_visits, free_relist                          259\n",
      "poor_quality_thumbnail, dragged_bids_and_visits       10\n",
      "poor_quality_thumbnail                                 3\n",
      "Name: tags, dtype: int64\n",
      "    90000\n",
      "Name: coverage_areas, dtype: int64\n"
     ]
    }
   ],
   "source": [
    "# Balance of the data\n",
    "\n",
    "for column in ['sub_status', 'deal_ids','tags', 'coverage_areas']:\n",
    "    print(data_list[column].value_counts())"
   ]
  },
  {
   "cell_type": "code",
   "execution_count": 23,
   "metadata": {},
   "outputs": [
    {
     "name": "stdout",
     "output_type": "stream",
     "text": [
      "Unique values:\n",
      "['Efectivo', 'Transferencia bancaria', 'Tarjeta de crédito', 'Acordar con el comprador', 'Giro postal', 'MercadoPago', 'Visa', 'MasterCard', 'Contra reembolso', 'Visa Electron', 'Mastercard Maestro', 'American Express', 'Diners', 'Cheque certificado']\n",
      "\n",
      "Description value counts:\n",
      "Efectivo                    60350\n",
      "Transferencia bancaria      46300\n",
      "Tarjeta de crédito          22129\n",
      "Acordar con el comprador     7175\n",
      "Giro postal                  1489\n",
      "MercadoPago                   646\n",
      "Visa                          625\n",
      "MasterCard                    572\n",
      "Contra reembolso              570\n",
      "Visa Electron                 564\n",
      "Mastercard Maestro            557\n",
      "American Express              533\n",
      "Diners                        413\n",
      "Cheque certificado            412\n",
      "dtype: int64\n"
     ]
    }
   ],
   "source": [
    "# Analysis of non_mercado_pago_payment_methods\n",
    "\n",
    "all_descriptions = [\n",
    "    item['description'] for payments in data_list['non_mercado_pago_payment_methods'] if isinstance(payments, list)\n",
    "    for item in payments\n",
    "]\n",
    "\n",
    "description_counts = pd.Series(all_descriptions).value_counts()\n",
    "print(\"Unique values:\")\n",
    "print(description_counts.index.tolist())\n",
    "print(\"\\nDescription value counts:\")\n",
    "print(description_counts)"
   ]
  },
  {
   "cell_type": "markdown",
   "metadata": {},
   "source": [
    "Conclusions:\n",
    "* deal_ids it's not relevant, it doesn't have relevant information.\n",
    "* coverage_areas has all values as null.\n",
    "* attributes and variations have a lot of information inside them, but the most of the information seems to be dirty and not meaningfully.\n",
    "* pictures and descriptions, again, don't contain relevant information.\n",
    "* sub_status column is very unbalanced.\n",
    "* Only preserve the variables tags, non_mercado_pago_payment_methods, they will have some transformations, but at the begining they could be relevant for the problem."
   ]
  },
  {
   "cell_type": "markdown",
   "metadata": {},
   "source": [
    "### Columns with dicts analysis"
   ]
  },
  {
   "cell_type": "code",
   "execution_count": 24,
   "metadata": {},
   "outputs": [
    {
     "data": {
      "text/html": [
       "<div>\n",
       "<style scoped>\n",
       "    .dataframe tbody tr th:only-of-type {\n",
       "        vertical-align: middle;\n",
       "    }\n",
       "\n",
       "    .dataframe tbody tr th {\n",
       "        vertical-align: top;\n",
       "    }\n",
       "\n",
       "    .dataframe thead th {\n",
       "        text-align: right;\n",
       "    }\n",
       "</style>\n",
       "<table border=\"1\" class=\"dataframe\">\n",
       "  <thead>\n",
       "    <tr style=\"text-align: right;\">\n",
       "      <th></th>\n",
       "      <th>seller_address</th>\n",
       "      <th>shipping</th>\n",
       "    </tr>\n",
       "  </thead>\n",
       "  <tbody>\n",
       "    <tr>\n",
       "      <th>0</th>\n",
       "      <td>{'country': {'name': 'Argentina', 'id': 'AR'},...</td>\n",
       "      <td>{'local_pick_up': True, 'methods': [], 'tags':...</td>\n",
       "    </tr>\n",
       "    <tr>\n",
       "      <th>1</th>\n",
       "      <td>{'country': {'name': 'Argentina', 'id': 'AR'},...</td>\n",
       "      <td>{'local_pick_up': True, 'methods': [], 'tags':...</td>\n",
       "    </tr>\n",
       "    <tr>\n",
       "      <th>2</th>\n",
       "      <td>{'country': {'name': 'Argentina', 'id': 'AR'},...</td>\n",
       "      <td>{'local_pick_up': True, 'methods': [], 'tags':...</td>\n",
       "    </tr>\n",
       "    <tr>\n",
       "      <th>3</th>\n",
       "      <td>{'country': {'name': 'Argentina', 'id': 'AR'},...</td>\n",
       "      <td>{'local_pick_up': True, 'methods': [], 'tags':...</td>\n",
       "    </tr>\n",
       "    <tr>\n",
       "      <th>4</th>\n",
       "      <td>{'country': {'name': 'Argentina', 'id': 'AR'},...</td>\n",
       "      <td>{'local_pick_up': True, 'methods': [], 'tags':...</td>\n",
       "    </tr>\n",
       "  </tbody>\n",
       "</table>\n",
       "</div>"
      ],
      "text/plain": [
       "                                      seller_address  \\\n",
       "0  {'country': {'name': 'Argentina', 'id': 'AR'},...   \n",
       "1  {'country': {'name': 'Argentina', 'id': 'AR'},...   \n",
       "2  {'country': {'name': 'Argentina', 'id': 'AR'},...   \n",
       "3  {'country': {'name': 'Argentina', 'id': 'AR'},...   \n",
       "4  {'country': {'name': 'Argentina', 'id': 'AR'},...   \n",
       "\n",
       "                                            shipping  \n",
       "0  {'local_pick_up': True, 'methods': [], 'tags':...  \n",
       "1  {'local_pick_up': True, 'methods': [], 'tags':...  \n",
       "2  {'local_pick_up': True, 'methods': [], 'tags':...  \n",
       "3  {'local_pick_up': True, 'methods': [], 'tags':...  \n",
       "4  {'local_pick_up': True, 'methods': [], 'tags':...  "
      ]
     },
     "execution_count": 24,
     "metadata": {},
     "output_type": "execute_result"
    }
   ],
   "source": [
    "data_dict = data_train[columns_with_dict]\n",
    "data_dict.head()"
   ]
  },
  {
   "cell_type": "code",
   "execution_count": 60,
   "metadata": {},
   "outputs": [],
   "source": [
    "# Extract state and city values to new columns\n",
    "data_dict = data_dict.copy()\n",
    "data_dict['state_name'] = data_dict['seller_address'].apply(\n",
    "    lambda x: x['state']['name'] if isinstance(x, dict) and 'state' in x else None\n",
    ")\n",
    "data_dict['city_name'] = data_dict['seller_address'].apply(\n",
    "    lambda x: x['city']['name'] if isinstance(x, dict) and 'city' in x else None\n",
    ")\n"
   ]
  },
  {
   "cell_type": "code",
   "execution_count": 26,
   "metadata": {},
   "outputs": [
    {
     "data": {
      "text/html": [
       "<div>\n",
       "<style scoped>\n",
       "    .dataframe tbody tr th:only-of-type {\n",
       "        vertical-align: middle;\n",
       "    }\n",
       "\n",
       "    .dataframe tbody tr th {\n",
       "        vertical-align: top;\n",
       "    }\n",
       "\n",
       "    .dataframe thead th {\n",
       "        text-align: right;\n",
       "    }\n",
       "</style>\n",
       "<table border=\"1\" class=\"dataframe\">\n",
       "  <thead>\n",
       "    <tr style=\"text-align: right;\">\n",
       "      <th></th>\n",
       "      <th>state_name</th>\n",
       "      <th>city_name</th>\n",
       "    </tr>\n",
       "  </thead>\n",
       "  <tbody>\n",
       "    <tr>\n",
       "      <th>0</th>\n",
       "      <td>Capital Federal</td>\n",
       "      <td>San Cristóbal</td>\n",
       "    </tr>\n",
       "    <tr>\n",
       "      <th>1</th>\n",
       "      <td>Capital Federal</td>\n",
       "      <td>Buenos Aires</td>\n",
       "    </tr>\n",
       "    <tr>\n",
       "      <th>2</th>\n",
       "      <td>Capital Federal</td>\n",
       "      <td>Boedo</td>\n",
       "    </tr>\n",
       "    <tr>\n",
       "      <th>3</th>\n",
       "      <td>Capital Federal</td>\n",
       "      <td>Floresta</td>\n",
       "    </tr>\n",
       "    <tr>\n",
       "      <th>4</th>\n",
       "      <td>Buenos Aires</td>\n",
       "      <td>Tres de febrero</td>\n",
       "    </tr>\n",
       "    <tr>\n",
       "      <th>...</th>\n",
       "      <td>...</td>\n",
       "      <td>...</td>\n",
       "    </tr>\n",
       "    <tr>\n",
       "      <th>89995</th>\n",
       "      <td>Capital Federal</td>\n",
       "      <td>capital federal</td>\n",
       "    </tr>\n",
       "    <tr>\n",
       "      <th>89996</th>\n",
       "      <td>Capital Federal</td>\n",
       "      <td>Núñez</td>\n",
       "    </tr>\n",
       "    <tr>\n",
       "      <th>89997</th>\n",
       "      <td>Buenos Aires</td>\n",
       "      <td>La Matanza</td>\n",
       "    </tr>\n",
       "    <tr>\n",
       "      <th>89998</th>\n",
       "      <td>Chubut</td>\n",
       "      <td>Trelew</td>\n",
       "    </tr>\n",
       "    <tr>\n",
       "      <th>89999</th>\n",
       "      <td>Capital Federal</td>\n",
       "      <td>mataderos</td>\n",
       "    </tr>\n",
       "  </tbody>\n",
       "</table>\n",
       "<p>90000 rows × 2 columns</p>\n",
       "</div>"
      ],
      "text/plain": [
       "            state_name        city_name\n",
       "0      Capital Federal    San Cristóbal\n",
       "1      Capital Federal     Buenos Aires\n",
       "2      Capital Federal            Boedo\n",
       "3      Capital Federal         Floresta\n",
       "4         Buenos Aires  Tres de febrero\n",
       "...                ...              ...\n",
       "89995  Capital Federal  capital federal\n",
       "89996  Capital Federal            Núñez\n",
       "89997     Buenos Aires       La Matanza\n",
       "89998           Chubut           Trelew\n",
       "89999  Capital Federal        mataderos\n",
       "\n",
       "[90000 rows x 2 columns]"
      ]
     },
     "execution_count": 26,
     "metadata": {},
     "output_type": "execute_result"
    }
   ],
   "source": [
    "data_dict[['state_name', 'city_name']]"
   ]
  },
  {
   "cell_type": "code",
   "execution_count": 27,
   "metadata": {},
   "outputs": [
    {
     "data": {
      "text/plain": [
       "Capital Federal    52143\n",
       "Buenos Aires       31482\n",
       "Santa Fe            2398\n",
       "Córdoba             1727\n",
       "Mendoza              400\n",
       "Chubut               335\n",
       "Entre Ríos           249\n",
       "Tucumán              214\n",
       "San Juan             132\n",
       "Salta                131\n",
       "Name: state_name, dtype: int64"
      ]
     },
     "execution_count": 27,
     "metadata": {},
     "output_type": "execute_result"
    }
   ],
   "source": [
    "data_dict.state_name.value_counts().head(10)"
   ]
  },
  {
   "cell_type": "code",
   "execution_count": 28,
   "metadata": {},
   "outputs": [
    {
     "data": {
      "text/plain": [
       "CABA               3708\n",
       "Buenos Aires       3104\n",
       "Capital Federal    3053\n",
       "Palermo            2995\n",
       "Caballito          2675\n",
       "Belgrano           2099\n",
       "buenos aires       1871\n",
       "capital federal    1685\n",
       "Rosario            1537\n",
       "Flores             1448\n",
       "Name: city_name, dtype: int64"
      ]
     },
     "execution_count": 28,
     "metadata": {},
     "output_type": "execute_result"
    }
   ],
   "source": [
    "data_dict.city_name.value_counts().head(10)"
   ]
  },
  {
   "cell_type": "code",
   "execution_count": 61,
   "metadata": {},
   "outputs": [],
   "source": [
    "data_dict['local_pick_up'] = data_dict['shipping'].apply(lambda x: x.get('local_pick_up') if isinstance(x, dict) else None)\n",
    "data_dict['free_shipping'] = data_dict['shipping'].apply(lambda x: x.get('free_shipping') if isinstance(x, dict) else None)\n"
   ]
  },
  {
   "cell_type": "code",
   "execution_count": 62,
   "metadata": {},
   "outputs": [
    {
     "data": {
      "text/html": [
       "<div>\n",
       "<style scoped>\n",
       "    .dataframe tbody tr th:only-of-type {\n",
       "        vertical-align: middle;\n",
       "    }\n",
       "\n",
       "    .dataframe tbody tr th {\n",
       "        vertical-align: top;\n",
       "    }\n",
       "\n",
       "    .dataframe thead th {\n",
       "        text-align: right;\n",
       "    }\n",
       "</style>\n",
       "<table border=\"1\" class=\"dataframe\">\n",
       "  <thead>\n",
       "    <tr style=\"text-align: right;\">\n",
       "      <th></th>\n",
       "      <th>local_pick_up</th>\n",
       "      <th>free_shipping</th>\n",
       "    </tr>\n",
       "  </thead>\n",
       "  <tbody>\n",
       "    <tr>\n",
       "      <th>0</th>\n",
       "      <td>True</td>\n",
       "      <td>False</td>\n",
       "    </tr>\n",
       "    <tr>\n",
       "      <th>1</th>\n",
       "      <td>True</td>\n",
       "      <td>False</td>\n",
       "    </tr>\n",
       "    <tr>\n",
       "      <th>2</th>\n",
       "      <td>True</td>\n",
       "      <td>False</td>\n",
       "    </tr>\n",
       "    <tr>\n",
       "      <th>3</th>\n",
       "      <td>True</td>\n",
       "      <td>False</td>\n",
       "    </tr>\n",
       "    <tr>\n",
       "      <th>4</th>\n",
       "      <td>True</td>\n",
       "      <td>False</td>\n",
       "    </tr>\n",
       "    <tr>\n",
       "      <th>...</th>\n",
       "      <td>...</td>\n",
       "      <td>...</td>\n",
       "    </tr>\n",
       "    <tr>\n",
       "      <th>89995</th>\n",
       "      <td>False</td>\n",
       "      <td>False</td>\n",
       "    </tr>\n",
       "    <tr>\n",
       "      <th>89996</th>\n",
       "      <td>True</td>\n",
       "      <td>False</td>\n",
       "    </tr>\n",
       "    <tr>\n",
       "      <th>89997</th>\n",
       "      <td>True</td>\n",
       "      <td>False</td>\n",
       "    </tr>\n",
       "    <tr>\n",
       "      <th>89998</th>\n",
       "      <td>False</td>\n",
       "      <td>False</td>\n",
       "    </tr>\n",
       "    <tr>\n",
       "      <th>89999</th>\n",
       "      <td>True</td>\n",
       "      <td>False</td>\n",
       "    </tr>\n",
       "  </tbody>\n",
       "</table>\n",
       "<p>90000 rows × 2 columns</p>\n",
       "</div>"
      ],
      "text/plain": [
       "       local_pick_up  free_shipping\n",
       "0               True          False\n",
       "1               True          False\n",
       "2               True          False\n",
       "3               True          False\n",
       "4               True          False\n",
       "...              ...            ...\n",
       "89995          False          False\n",
       "89996           True          False\n",
       "89997           True          False\n",
       "89998          False          False\n",
       "89999           True          False\n",
       "\n",
       "[90000 rows x 2 columns]"
      ]
     },
     "execution_count": 62,
     "metadata": {},
     "output_type": "execute_result"
    }
   ],
   "source": [
    "data_dict[['local_pick_up', 'free_shipping']]"
   ]
  },
  {
   "cell_type": "code",
   "execution_count": 31,
   "metadata": {},
   "outputs": [
    {
     "data": {
      "text/plain": [
       "True     71577\n",
       "False    18423\n",
       "Name: local_pick_up, dtype: int64"
      ]
     },
     "execution_count": 31,
     "metadata": {},
     "output_type": "execute_result"
    }
   ],
   "source": [
    "data_dict.local_pick_up.value_counts()"
   ]
  },
  {
   "cell_type": "code",
   "execution_count": 32,
   "metadata": {},
   "outputs": [
    {
     "data": {
      "text/plain": [
       "False    87303\n",
       "True      2697\n",
       "Name: free_shipping, dtype: int64"
      ]
     },
     "execution_count": 32,
     "metadata": {},
     "output_type": "execute_result"
    }
   ],
   "source": [
    "data_dict.free_shipping.value_counts()"
   ]
  },
  {
   "cell_type": "markdown",
   "metadata": {},
   "source": [
    "Conclusions:\n",
    "* Some variables could be relevant, as local_pick_up, free_shipping, state_name and city name. They might be need transformation in the future. We won't delete this variables."
   ]
  },
  {
   "cell_type": "markdown",
   "metadata": {},
   "source": [
    "### Columns with string data type"
   ]
  },
  {
   "cell_type": "code",
   "execution_count": 33,
   "metadata": {},
   "outputs": [
    {
     "data": {
      "text/html": [
       "<div>\n",
       "<style scoped>\n",
       "    .dataframe tbody tr th:only-of-type {\n",
       "        vertical-align: middle;\n",
       "    }\n",
       "\n",
       "    .dataframe tbody tr th {\n",
       "        vertical-align: top;\n",
       "    }\n",
       "\n",
       "    .dataframe thead th {\n",
       "        text-align: right;\n",
       "    }\n",
       "</style>\n",
       "<table border=\"1\" class=\"dataframe\">\n",
       "  <thead>\n",
       "    <tr style=\"text-align: right;\">\n",
       "      <th></th>\n",
       "      <th>warranty</th>\n",
       "      <th>condition</th>\n",
       "      <th>site_id</th>\n",
       "      <th>listing_type_id</th>\n",
       "      <th>buying_mode</th>\n",
       "      <th>listing_source</th>\n",
       "      <th>parent_item_id</th>\n",
       "      <th>category_id</th>\n",
       "      <th>last_updated</th>\n",
       "      <th>international_delivery_mode</th>\n",
       "      <th>id</th>\n",
       "      <th>currency_id</th>\n",
       "      <th>thumbnail</th>\n",
       "      <th>title</th>\n",
       "      <th>date_created</th>\n",
       "      <th>secure_thumbnail</th>\n",
       "      <th>status</th>\n",
       "      <th>video_id</th>\n",
       "      <th>permalink</th>\n",
       "    </tr>\n",
       "  </thead>\n",
       "  <tbody>\n",
       "    <tr>\n",
       "      <th>0</th>\n",
       "      <td>None</td>\n",
       "      <td>new</td>\n",
       "      <td>MLA</td>\n",
       "      <td>bronze</td>\n",
       "      <td>buy_it_now</td>\n",
       "      <td></td>\n",
       "      <td>MLA6553902747</td>\n",
       "      <td>MLA126406</td>\n",
       "      <td>2015-09-05T20:42:58.000Z</td>\n",
       "      <td>none</td>\n",
       "      <td>MLA4695330653</td>\n",
       "      <td>ARS</td>\n",
       "      <td>http://mla-s1-p.mlstatic.com/5386-MLA469533065...</td>\n",
       "      <td>Auriculares Samsung Originales Manos Libres Ca...</td>\n",
       "      <td>2015-09-05T20:42:53.000Z</td>\n",
       "      <td>https://a248.e.akamai.net/mla-s1-p.mlstatic.co...</td>\n",
       "      <td>active</td>\n",
       "      <td>None</td>\n",
       "      <td>http://articulo.mercadolibre.com.ar/MLA4695330...</td>\n",
       "    </tr>\n",
       "    <tr>\n",
       "      <th>1</th>\n",
       "      <td>NUESTRA REPUTACION</td>\n",
       "      <td>used</td>\n",
       "      <td>MLA</td>\n",
       "      <td>silver</td>\n",
       "      <td>buy_it_now</td>\n",
       "      <td></td>\n",
       "      <td>MLA7727150374</td>\n",
       "      <td>MLA10267</td>\n",
       "      <td>2015-09-26T18:08:34.000Z</td>\n",
       "      <td>none</td>\n",
       "      <td>MLA7160447179</td>\n",
       "      <td>ARS</td>\n",
       "      <td>http://mla-s1-p.mlstatic.com/23223-MLA71604471...</td>\n",
       "      <td>Cuchillo Daga Acero Carbón Casco Yelmo Solinge...</td>\n",
       "      <td>2015-09-26T18:08:30.000Z</td>\n",
       "      <td>https://a248.e.akamai.net/mla-s1-p.mlstatic.co...</td>\n",
       "      <td>active</td>\n",
       "      <td>None</td>\n",
       "      <td>http://articulo.mercadolibre.com.ar/MLA7160447...</td>\n",
       "    </tr>\n",
       "  </tbody>\n",
       "</table>\n",
       "</div>"
      ],
      "text/plain": [
       "             warranty condition site_id listing_type_id buying_mode  \\\n",
       "0                None       new     MLA          bronze  buy_it_now   \n",
       "1  NUESTRA REPUTACION      used     MLA          silver  buy_it_now   \n",
       "\n",
       "  listing_source parent_item_id category_id              last_updated  \\\n",
       "0                 MLA6553902747   MLA126406  2015-09-05T20:42:58.000Z   \n",
       "1                 MLA7727150374    MLA10267  2015-09-26T18:08:34.000Z   \n",
       "\n",
       "  international_delivery_mode             id currency_id  \\\n",
       "0                        none  MLA4695330653         ARS   \n",
       "1                        none  MLA7160447179         ARS   \n",
       "\n",
       "                                           thumbnail  \\\n",
       "0  http://mla-s1-p.mlstatic.com/5386-MLA469533065...   \n",
       "1  http://mla-s1-p.mlstatic.com/23223-MLA71604471...   \n",
       "\n",
       "                                               title  \\\n",
       "0  Auriculares Samsung Originales Manos Libres Ca...   \n",
       "1  Cuchillo Daga Acero Carbón Casco Yelmo Solinge...   \n",
       "\n",
       "               date_created  \\\n",
       "0  2015-09-05T20:42:53.000Z   \n",
       "1  2015-09-26T18:08:30.000Z   \n",
       "\n",
       "                                    secure_thumbnail  status video_id  \\\n",
       "0  https://a248.e.akamai.net/mla-s1-p.mlstatic.co...  active     None   \n",
       "1  https://a248.e.akamai.net/mla-s1-p.mlstatic.co...  active     None   \n",
       "\n",
       "                                           permalink  \n",
       "0  http://articulo.mercadolibre.com.ar/MLA4695330...  \n",
       "1  http://articulo.mercadolibre.com.ar/MLA7160447...  "
      ]
     },
     "execution_count": 33,
     "metadata": {},
     "output_type": "execute_result"
    }
   ],
   "source": [
    "data_train[columns_with_string].head(2)"
   ]
  },
  {
   "cell_type": "code",
   "execution_count": 34,
   "metadata": {},
   "outputs": [
    {
     "data": {
      "text/plain": [
       "ARS    89496\n",
       "USD      504\n",
       "Name: currency_id, dtype: int64"
      ]
     },
     "execution_count": 34,
     "metadata": {},
     "output_type": "execute_result"
    }
   ],
   "source": [
    "data_train.currency_id.value_counts().head(20)"
   ]
  },
  {
   "cell_type": "code",
   "execution_count": 35,
   "metadata": {},
   "outputs": [
    {
     "data": {
      "text/plain": [
       "buy_it_now    87311\n",
       "classified     1982\n",
       "auction         707\n",
       "Name: buying_mode, dtype: int64"
      ]
     },
     "execution_count": 35,
     "metadata": {},
     "output_type": "execute_result"
    }
   ],
   "source": [
    "# very unbalanced\n",
    "data_train.buying_mode.value_counts().head(20)"
   ]
  },
  {
   "cell_type": "code",
   "execution_count": 36,
   "metadata": {},
   "outputs": [
    {
     "data": {
      "text/plain": [
       "Sí                                                                                                                                                                                                                                     5107\n",
       "Sin garantía                                                                                                                                                                                                                           4907\n",
       "SI                                                                                                                                                                                                                                      545\n",
       "6 meses                                                                                                                                                                                                                                 489\n",
       "6 MESES                                                                                                                                                                                                                                 361\n",
       "Si                                                                                                                                                                                                                                      311\n",
       "si                                                                                                                                                                                                                                      291\n",
       "MI REPUTACION                                                                                                                                                                                                                           192\n",
       "3 meses                                                                                                                                                                                                                                 190\n",
       "3 MESES                                                                                                                                                                                                                                 183\n",
       "3 meses de garantia                                                                                                                                                                                                                     183\n",
       "12 meses                                                                                                                                                                                                                                153\n",
       "MIS CALIFICACIONES                                                                                                                                                                                                                      151\n",
       "TODOS MIS PRODUCTOS ESTAN 100 % GARANTIZADOS,DE NO ESTAR CONFORME CON LOS MISMOS   SE REINTEGRARA  EL IMPORTE DEL PRODUCTO,CONTRA DEVOLUCION DEL ARTICULO                                                                               148\n",
       "1 año                                                                                                                                                                                                                                   137\n",
       "Oferta con confianza - Revisa nuestras Calificaciones!!                                                                                                                                                                                 127\n",
       "La garantia solo responde en casos de fallas de impresion y/o encuadernacion del libro. tiene un vencimiento de 60 dias tomando como referencia la fecha de compra. los gastos adicionales de envio corren por cuenta del comprador     123\n",
       "SE GARANTIZA LA DESCRIPCIÓN.                                                                                                                                                                                                            113\n",
       "El producto tiene un año de garantia                                                                                                                                                                                                    110\n",
       "Se entrega en caja sellada, el cadete que lo entrega no sabe el contenido. En caso de ser envios por Micro, OCA (va totalmente sellado sin logotipos, ni firma de la Empresa).                                                          109\n",
       "Name: warranty, dtype: int64"
      ]
     },
     "execution_count": 36,
     "metadata": {},
     "output_type": "execute_result"
    }
   ],
   "source": [
    "data_train.warranty.value_counts().head(20)"
   ]
  },
  {
   "cell_type": "markdown",
   "metadata": {},
   "source": [
    "Conclusions:\n",
    "* Warranty could be important, but it's necessary to clean the variable.\n",
    "* Condition it's the dependent variable, site_id  only have a single value, listing_source doesn't have non null values, parent_id_item it's not relevant because it's an id,\n",
    "international_delivery_mode has only null values. currency_id it's not relevant in this context (It is very unbalanced too). Thumbnail and secure_thumbnail are not relevant. video_id and permalink don't have meaningfull data.\n",
    "* buying_mode unbalanced\n",
    "* Preserve the id variable to the deliverable.\n",
    "* title field and status could be important.\n",
    "* last_updated can be transformed and use a new variable.\n",
    "* status to future predictions doesn't have much sense.\n",
    "* Preserve last_updated, title, id, category_id and warranty, listing_type_id."
   ]
  },
  {
   "cell_type": "markdown",
   "metadata": {},
   "source": [
    "### Remaining columns"
   ]
  },
  {
   "cell_type": "code",
   "execution_count": 37,
   "metadata": {},
   "outputs": [
    {
     "data": {
      "text/html": [
       "<div>\n",
       "<style scoped>\n",
       "    .dataframe tbody tr th:only-of-type {\n",
       "        vertical-align: middle;\n",
       "    }\n",
       "\n",
       "    .dataframe tbody tr th {\n",
       "        vertical-align: top;\n",
       "    }\n",
       "\n",
       "    .dataframe thead th {\n",
       "        text-align: right;\n",
       "    }\n",
       "</style>\n",
       "<table border=\"1\" class=\"dataframe\">\n",
       "  <thead>\n",
       "    <tr style=\"text-align: right;\">\n",
       "      <th></th>\n",
       "      <th>base_price</th>\n",
       "      <th>seller_id</th>\n",
       "      <th>price</th>\n",
       "      <th>official_store_id</th>\n",
       "      <th>differential_pricing</th>\n",
       "      <th>accepts_mercadopago</th>\n",
       "      <th>original_price</th>\n",
       "      <th>automatic_relist</th>\n",
       "      <th>stop_time</th>\n",
       "      <th>catalog_product_id</th>\n",
       "      <th>subtitle</th>\n",
       "      <th>initial_quantity</th>\n",
       "      <th>start_time</th>\n",
       "      <th>sold_quantity</th>\n",
       "      <th>available_quantity</th>\n",
       "    </tr>\n",
       "  </thead>\n",
       "  <tbody>\n",
       "    <tr>\n",
       "      <th>0</th>\n",
       "      <td>80.0</td>\n",
       "      <td>8208882349</td>\n",
       "      <td>80.0</td>\n",
       "      <td>NaN</td>\n",
       "      <td>NaN</td>\n",
       "      <td>True</td>\n",
       "      <td>NaN</td>\n",
       "      <td>False</td>\n",
       "      <td>2015-11-04 20:42:53</td>\n",
       "      <td>NaN</td>\n",
       "      <td>NaN</td>\n",
       "      <td>1</td>\n",
       "      <td>2015-09-05 20:42:53</td>\n",
       "      <td>0</td>\n",
       "      <td>1</td>\n",
       "    </tr>\n",
       "    <tr>\n",
       "      <th>1</th>\n",
       "      <td>2650.0</td>\n",
       "      <td>8141699488</td>\n",
       "      <td>2650.0</td>\n",
       "      <td>NaN</td>\n",
       "      <td>NaN</td>\n",
       "      <td>True</td>\n",
       "      <td>NaN</td>\n",
       "      <td>False</td>\n",
       "      <td>2015-11-25 18:08:30</td>\n",
       "      <td>NaN</td>\n",
       "      <td>NaN</td>\n",
       "      <td>1</td>\n",
       "      <td>2015-09-26 18:08:30</td>\n",
       "      <td>0</td>\n",
       "      <td>1</td>\n",
       "    </tr>\n",
       "    <tr>\n",
       "      <th>2</th>\n",
       "      <td>60.0</td>\n",
       "      <td>8386096505</td>\n",
       "      <td>60.0</td>\n",
       "      <td>NaN</td>\n",
       "      <td>NaN</td>\n",
       "      <td>True</td>\n",
       "      <td>NaN</td>\n",
       "      <td>False</td>\n",
       "      <td>2015-11-08 23:57:07</td>\n",
       "      <td>NaN</td>\n",
       "      <td>NaN</td>\n",
       "      <td>1</td>\n",
       "      <td>2015-09-09 23:57:07</td>\n",
       "      <td>0</td>\n",
       "      <td>1</td>\n",
       "    </tr>\n",
       "    <tr>\n",
       "      <th>3</th>\n",
       "      <td>580.0</td>\n",
       "      <td>5377752182</td>\n",
       "      <td>580.0</td>\n",
       "      <td>NaN</td>\n",
       "      <td>NaN</td>\n",
       "      <td>True</td>\n",
       "      <td>NaN</td>\n",
       "      <td>False</td>\n",
       "      <td>2015-12-04 01:13:16</td>\n",
       "      <td>NaN</td>\n",
       "      <td>NaN</td>\n",
       "      <td>1</td>\n",
       "      <td>2015-09-28 18:47:56</td>\n",
       "      <td>0</td>\n",
       "      <td>1</td>\n",
       "    </tr>\n",
       "    <tr>\n",
       "      <th>4</th>\n",
       "      <td>30.0</td>\n",
       "      <td>2938071313</td>\n",
       "      <td>30.0</td>\n",
       "      <td>NaN</td>\n",
       "      <td>NaN</td>\n",
       "      <td>True</td>\n",
       "      <td>NaN</td>\n",
       "      <td>False</td>\n",
       "      <td>2015-10-23 22:07:20</td>\n",
       "      <td>NaN</td>\n",
       "      <td>NaN</td>\n",
       "      <td>1</td>\n",
       "      <td>2015-08-24 22:07:20</td>\n",
       "      <td>0</td>\n",
       "      <td>1</td>\n",
       "    </tr>\n",
       "  </tbody>\n",
       "</table>\n",
       "</div>"
      ],
      "text/plain": [
       "   base_price   seller_id   price  official_store_id  differential_pricing  \\\n",
       "0        80.0  8208882349    80.0                NaN                   NaN   \n",
       "1      2650.0  8141699488  2650.0                NaN                   NaN   \n",
       "2        60.0  8386096505    60.0                NaN                   NaN   \n",
       "3       580.0  5377752182   580.0                NaN                   NaN   \n",
       "4        30.0  2938071313    30.0                NaN                   NaN   \n",
       "\n",
       "   accepts_mercadopago  original_price  automatic_relist           stop_time  \\\n",
       "0                 True             NaN             False 2015-11-04 20:42:53   \n",
       "1                 True             NaN             False 2015-11-25 18:08:30   \n",
       "2                 True             NaN             False 2015-11-08 23:57:07   \n",
       "3                 True             NaN             False 2015-12-04 01:13:16   \n",
       "4                 True             NaN             False 2015-10-23 22:07:20   \n",
       "\n",
       "   catalog_product_id  subtitle  initial_quantity          start_time  \\\n",
       "0                 NaN       NaN                 1 2015-09-05 20:42:53   \n",
       "1                 NaN       NaN                 1 2015-09-26 18:08:30   \n",
       "2                 NaN       NaN                 1 2015-09-09 23:57:07   \n",
       "3                 NaN       NaN                 1 2015-09-28 18:47:56   \n",
       "4                 NaN       NaN                 1 2015-08-24 22:07:20   \n",
       "\n",
       "   sold_quantity  available_quantity  \n",
       "0              0                   1  \n",
       "1              0                   1  \n",
       "2              0                   1  \n",
       "3              0                   1  \n",
       "4              0                   1  "
      ]
     },
     "execution_count": 37,
     "metadata": {},
     "output_type": "execute_result"
    }
   ],
   "source": [
    "data_remain = data_train[remaining_columns]\n",
    "data_remain.head(5)"
   ]
  },
  {
   "cell_type": "code",
   "execution_count": 38,
   "metadata": {},
   "outputs": [
    {
     "data": {
      "text/plain": [
       "26"
      ]
     },
     "execution_count": 38,
     "metadata": {},
     "output_type": "execute_result"
    }
   ],
   "source": [
    "# In general, base_price and price are the same\n",
    "sum(data_remain['base_price'] != data_remain['price'])"
   ]
  },
  {
   "cell_type": "code",
   "execution_count": 39,
   "metadata": {},
   "outputs": [
    {
     "data": {
      "text/plain": [
       "True     88018\n",
       "False     1982\n",
       "Name: accepts_mercadopago, dtype: int64"
      ]
     },
     "execution_count": 39,
     "metadata": {},
     "output_type": "execute_result"
    }
   ],
   "source": [
    "data_remain.accepts_mercadopago.value_counts()"
   ]
  },
  {
   "cell_type": "code",
   "execution_count": 40,
   "metadata": {},
   "outputs": [
    {
     "data": {
      "text/plain": [
       "False    85773\n",
       "True      4227\n",
       "Name: automatic_relist, dtype: int64"
      ]
     },
     "execution_count": 40,
     "metadata": {},
     "output_type": "execute_result"
    }
   ],
   "source": [
    "data_remain.automatic_relist.value_counts()"
   ]
  },
  {
   "cell_type": "markdown",
   "metadata": {},
   "source": [
    "Conclusions:\n",
    "* base price could be important, automatic_relist, initial_quantity, sold_quantity, available_quantity, start_time too.\n",
    "* delete price, official_store_id, differential_price, accepts_mercadopago (very unbalanced data), original_price, catalog_product_id (not relevant), subtitle (only null values), seller_id, stop_time."
   ]
  },
  {
   "cell_type": "markdown",
   "metadata": {},
   "source": [
    "### Columns with many null values"
   ]
  },
  {
   "cell_type": "code",
   "execution_count": 41,
   "metadata": {},
   "outputs": [
    {
     "data": {
      "text/plain": [
       "differential_pricing    90000\n",
       "subtitle                90000\n",
       "catalog_product_id      89993\n",
       "original_price          89870\n",
       "official_store_id       89255\n",
       "video_id                87324\n",
       "warranty                54757\n",
       "parent_item_id          20690\n",
       "automatic_relist            0\n",
       "accepts_mercadopago         0\n",
       "dtype: int64"
      ]
     },
     "execution_count": 41,
     "metadata": {},
     "output_type": "execute_result"
    }
   ],
   "source": [
    "# Sort variables by number of null values, this is important for the variable selection, columns with many null values will be deleted of the process.\n",
    "data_train.isnull().sum().sort_values(ascending=False).head(10)"
   ]
  },
  {
   "cell_type": "markdown",
   "metadata": {},
   "source": [
    "### Final variables"
   ]
  },
  {
   "cell_type": "code",
   "execution_count": 42,
   "metadata": {},
   "outputs": [],
   "source": [
    "# The variables we consider up to this point are:\n",
    "final_variables = [\n",
    "    'id', 'category_id','base_price', 'title', 'listing_type_id',\n",
    "    'buying_mode', 'warranty', 'tags', 'initial_quantity', 'sold_quantity', 'available_quantity',\n",
    "    'start_time', 'last_updated', 'shipping', 'seller_address',\n",
    "    'non_mercado_pago_payment_methods', 'automatic_relist','condition'\n",
    "]"
   ]
  },
  {
   "cell_type": "markdown",
   "metadata": {},
   "source": [
    "## Some statistical analyzes on the final variables"
   ]
  },
  {
   "cell_type": "code",
   "execution_count": 43,
   "metadata": {},
   "outputs": [
    {
     "data": {
      "text/plain": [
       "id                                      0\n",
       "category_id                             0\n",
       "base_price                              0\n",
       "title                                   0\n",
       "listing_type_id                         0\n",
       "buying_mode                             0\n",
       "warranty                            54757\n",
       "tags                                    0\n",
       "initial_quantity                        0\n",
       "sold_quantity                           0\n",
       "available_quantity                      0\n",
       "start_time                              0\n",
       "last_updated                            0\n",
       "shipping                                0\n",
       "seller_address                          0\n",
       "non_mercado_pago_payment_methods        0\n",
       "automatic_relist                        0\n",
       "condition                               0\n",
       "dtype: int64"
      ]
     },
     "execution_count": 43,
     "metadata": {},
     "output_type": "execute_result"
    }
   ],
   "source": [
    "# Warranty null values will be used as NO warranty in the products\n",
    "data_train[final_variables].isnull().sum()"
   ]
  },
  {
   "cell_type": "code",
   "execution_count": 44,
   "metadata": {},
   "outputs": [
    {
     "name": "stdout",
     "output_type": "stream",
     "text": [
      "DataFrame dimensions: (90000, 18)\n",
      "\n",
      "Numeric columns: ['base_price', 'initial_quantity', 'sold_quantity', 'available_quantity']\n",
      "\n",
      "Statistical summary for numeric columns:\n",
      "         base_price  initial_quantity  sold_quantity  available_quantity\n",
      "count  9.000000e+04      90000.000000   90000.000000        90000.000000\n",
      "mean   5.781341e+04         34.957178       2.328044           34.700767\n",
      "std    9.089555e+06        421.091981      33.839328          420.811703\n",
      "min    8.400000e-01          1.000000       0.000000            1.000000\n",
      "25%    9.000000e+01          1.000000       0.000000            1.000000\n",
      "50%    2.500000e+02          1.000000       0.000000            1.000000\n",
      "75%    8.000000e+02          2.000000       0.000000            2.000000\n",
      "max    2.222222e+09       9999.000000    6065.000000         9999.000000\n"
     ]
    },
    {
     "data": {
      "image/png": "[encoded data removed]",
      "text/plain": [
       "<Figure size 800x500 with 2 Axes>"
      ]
     },
     "metadata": {},
     "output_type": "display_data"
    },
    {
     "data": {
      "image/png": "[encoded data removed]",
      "text/plain": [
       "<Figure size 600x400 with 1 Axes>"
      ]
     },
     "metadata": {},
     "output_type": "display_data"
    },
    {
     "data": {
      "image/png": "[encoded data removed]",
      "text/plain": [
       "<Figure size 600x400 with 1 Axes>"
      ]
     },
     "metadata": {},
     "output_type": "display_data"
    },
    {
     "data": {
      "image/png": "[encoded data removed]",
      "text/plain": [
       "<Figure size 600x400 with 1 Axes>"
      ]
     },
     "metadata": {},
     "output_type": "display_data"
    },
    {
     "data": {
      "image/png": "[encoded data removed]",
      "text/plain": [
       "<Figure size 600x400 with 1 Axes>"
      ]
     },
     "metadata": {},
     "output_type": "display_data"
    },
    {
     "data": {
      "image/png": "[encoded data removed]",
      "text/plain": [
       "<Figure size 600x400 with 1 Axes>"
      ]
     },
     "metadata": {},
     "output_type": "display_data"
    },
    {
     "data": {
      "image/png": "[encoded data removed]",
      "text/plain": [
       "<Figure size 600x400 with 1 Axes>"
      ]
     },
     "metadata": {},
     "output_type": "display_data"
    }
   ],
   "source": [
    "import seaborn as sns\n",
    "import matplotlib.pyplot as plt\n",
    "from itertools import combinations\n",
    "from scipy.stats import spearmanr\n",
    "\n",
    "# Function to analyze data by separating columns by data type\n",
    "def analyze_data(data):\n",
    "    numeric_cols = data.select_dtypes(include=['number']).columns\n",
    "\n",
    "    print(\"DataFrame dimensions:\", data.shape)\n",
    "    print(\"\\nNumeric columns:\", list(numeric_cols))\n",
    "\n",
    "    # Statistical summary for numeric columns\n",
    "    if not numeric_cols.empty:\n",
    "        print(\"\\nStatistical summary for numeric columns:\")\n",
    "        print(data[numeric_cols].describe())\n",
    "\n",
    "    # Correlation matrix for numeric columns\n",
    "    if len(numeric_cols) > 1:\n",
    "        plt.figure(figsize=(8, 5))\n",
    "        corr = data[numeric_cols].corr()\n",
    "        sns.heatmap(corr, annot=True, cmap='coolwarm', fmt='.2f', cbar=True, square=True)\n",
    "        plt.title('Correlation Matrix (Pearson)')\n",
    "        plt.show()\n",
    "\n",
    "    # Sequential scatter plots for pairs of numeric columns\n",
    "    if len(numeric_cols) >= 2:\n",
    "        pairs = combinations(numeric_cols, 2)\n",
    "        for col_x, col_y in pairs:\n",
    "            plt.figure(figsize=(6, 4))\n",
    "            sns.scatterplot(data=data, x=col_x, y=col_y, alpha=0.5)\n",
    "            plt.title(f'Scatter Plot: {col_x} vs {col_y}')\n",
    "            plt.xlabel(col_x)\n",
    "            plt.ylabel(col_y)\n",
    "            plt.grid(True, linestyle='--', alpha=0.7)\n",
    "            plt.tight_layout()\n",
    "            plt.show()\n",
    "\n",
    "analyze_data(data_train[final_variables])\n"
   ]
  },
  {
   "cell_type": "markdown",
   "metadata": {},
   "source": [
    "conclusions\n",
    "* Delete one variable, initial_quantity or available quantity, this for avoid multicollinearity.\n",
    "* Transfom the null values of warranty to NO WARRANTY."
   ]
  },
  {
   "cell_type": "markdown",
   "metadata": {},
   "source": [
    "## Feature engineering"
   ]
  },
  {
   "cell_type": "code",
   "execution_count": 45,
   "metadata": {},
   "outputs": [],
   "source": [
    "# The variables we consider up to this point are:\n",
    "final_variables = [\n",
    "    'id', 'category_id','base_price', 'title', 'listing_type_id',\n",
    "    'buying_mode', 'warranty', 'tags', 'initial_quantity', 'sold_quantity', 'available_quantity',\n",
    "    'start_time', 'last_updated', 'shipping', 'seller_address',\n",
    "    'non_mercado_pago_payment_methods', 'automatic_relist','condition'\n",
    "]"
   ]
  },
  {
   "cell_type": "code",
   "execution_count": 46,
   "metadata": {},
   "outputs": [
    {
     "data": {
      "text/html": [
       "<div>\n",
       "<style scoped>\n",
       "    .dataframe tbody tr th:only-of-type {\n",
       "        vertical-align: middle;\n",
       "    }\n",
       "\n",
       "    .dataframe tbody tr th {\n",
       "        vertical-align: top;\n",
       "    }\n",
       "\n",
       "    .dataframe thead th {\n",
       "        text-align: right;\n",
       "    }\n",
       "</style>\n",
       "<table border=\"1\" class=\"dataframe\">\n",
       "  <thead>\n",
       "    <tr style=\"text-align: right;\">\n",
       "      <th></th>\n",
       "      <th>id</th>\n",
       "      <th>category_id</th>\n",
       "      <th>base_price</th>\n",
       "      <th>title</th>\n",
       "      <th>listing_type_id</th>\n",
       "      <th>buying_mode</th>\n",
       "      <th>warranty</th>\n",
       "      <th>tags</th>\n",
       "      <th>initial_quantity</th>\n",
       "      <th>sold_quantity</th>\n",
       "      <th>available_quantity</th>\n",
       "      <th>start_time</th>\n",
       "      <th>last_updated</th>\n",
       "      <th>shipping</th>\n",
       "      <th>seller_address</th>\n",
       "      <th>non_mercado_pago_payment_methods</th>\n",
       "      <th>automatic_relist</th>\n",
       "      <th>condition</th>\n",
       "    </tr>\n",
       "  </thead>\n",
       "  <tbody>\n",
       "    <tr>\n",
       "      <th>0</th>\n",
       "      <td>MLA4695330653</td>\n",
       "      <td>MLA126406</td>\n",
       "      <td>80.0</td>\n",
       "      <td>Auriculares Samsung Originales Manos Libres Ca...</td>\n",
       "      <td>bronze</td>\n",
       "      <td>buy_it_now</td>\n",
       "      <td>None</td>\n",
       "      <td>[dragged_bids_and_visits]</td>\n",
       "      <td>1</td>\n",
       "      <td>0</td>\n",
       "      <td>1</td>\n",
       "      <td>2015-09-05 20:42:53</td>\n",
       "      <td>2015-09-05T20:42:58.000Z</td>\n",
       "      <td>{'local_pick_up': True, 'methods': [], 'tags':...</td>\n",
       "      <td>{'country': {'name': 'Argentina', 'id': 'AR'},...</td>\n",
       "      <td>[{'description': 'Transferencia bancaria', 'id...</td>\n",
       "      <td>False</td>\n",
       "      <td>new</td>\n",
       "    </tr>\n",
       "    <tr>\n",
       "      <th>1</th>\n",
       "      <td>MLA7160447179</td>\n",
       "      <td>MLA10267</td>\n",
       "      <td>2650.0</td>\n",
       "      <td>Cuchillo Daga Acero Carbón Casco Yelmo Solinge...</td>\n",
       "      <td>silver</td>\n",
       "      <td>buy_it_now</td>\n",
       "      <td>NUESTRA REPUTACION</td>\n",
       "      <td>[]</td>\n",
       "      <td>1</td>\n",
       "      <td>0</td>\n",
       "      <td>1</td>\n",
       "      <td>2015-09-26 18:08:30</td>\n",
       "      <td>2015-09-26T18:08:34.000Z</td>\n",
       "      <td>{'local_pick_up': True, 'methods': [], 'tags':...</td>\n",
       "      <td>{'country': {'name': 'Argentina', 'id': 'AR'},...</td>\n",
       "      <td>[{'description': 'Transferencia bancaria', 'id...</td>\n",
       "      <td>False</td>\n",
       "      <td>used</td>\n",
       "    </tr>\n",
       "    <tr>\n",
       "      <th>2</th>\n",
       "      <td>MLA7367189936</td>\n",
       "      <td>MLA1227</td>\n",
       "      <td>60.0</td>\n",
       "      <td>Antigua Revista Billiken, N° 1826, Año 1954</td>\n",
       "      <td>bronze</td>\n",
       "      <td>buy_it_now</td>\n",
       "      <td>None</td>\n",
       "      <td>[dragged_bids_and_visits]</td>\n",
       "      <td>1</td>\n",
       "      <td>0</td>\n",
       "      <td>1</td>\n",
       "      <td>2015-09-09 23:57:07</td>\n",
       "      <td>2015-09-09T23:57:10.000Z</td>\n",
       "      <td>{'local_pick_up': True, 'methods': [], 'tags':...</td>\n",
       "      <td>{'country': {'name': 'Argentina', 'id': 'AR'},...</td>\n",
       "      <td>[{'description': 'Transferencia bancaria', 'id...</td>\n",
       "      <td>False</td>\n",
       "      <td>used</td>\n",
       "    </tr>\n",
       "  </tbody>\n",
       "</table>\n",
       "</div>"
      ],
      "text/plain": [
       "              id category_id  base_price  \\\n",
       "0  MLA4695330653   MLA126406        80.0   \n",
       "1  MLA7160447179    MLA10267      2650.0   \n",
       "2  MLA7367189936     MLA1227        60.0   \n",
       "\n",
       "                                               title listing_type_id  \\\n",
       "0  Auriculares Samsung Originales Manos Libres Ca...          bronze   \n",
       "1  Cuchillo Daga Acero Carbón Casco Yelmo Solinge...          silver   \n",
       "2        Antigua Revista Billiken, N° 1826, Año 1954          bronze   \n",
       "\n",
       "  buying_mode            warranty                       tags  \\\n",
       "0  buy_it_now                None  [dragged_bids_and_visits]   \n",
       "1  buy_it_now  NUESTRA REPUTACION                         []   \n",
       "2  buy_it_now                None  [dragged_bids_and_visits]   \n",
       "\n",
       "   initial_quantity  sold_quantity  available_quantity          start_time  \\\n",
       "0                 1              0                   1 2015-09-05 20:42:53   \n",
       "1                 1              0                   1 2015-09-26 18:08:30   \n",
       "2                 1              0                   1 2015-09-09 23:57:07   \n",
       "\n",
       "               last_updated  \\\n",
       "0  2015-09-05T20:42:58.000Z   \n",
       "1  2015-09-26T18:08:34.000Z   \n",
       "2  2015-09-09T23:57:10.000Z   \n",
       "\n",
       "                                            shipping  \\\n",
       "0  {'local_pick_up': True, 'methods': [], 'tags':...   \n",
       "1  {'local_pick_up': True, 'methods': [], 'tags':...   \n",
       "2  {'local_pick_up': True, 'methods': [], 'tags':...   \n",
       "\n",
       "                                      seller_address  \\\n",
       "0  {'country': {'name': 'Argentina', 'id': 'AR'},...   \n",
       "1  {'country': {'name': 'Argentina', 'id': 'AR'},...   \n",
       "2  {'country': {'name': 'Argentina', 'id': 'AR'},...   \n",
       "\n",
       "                    non_mercado_pago_payment_methods  automatic_relist  \\\n",
       "0  [{'description': 'Transferencia bancaria', 'id...             False   \n",
       "1  [{'description': 'Transferencia bancaria', 'id...             False   \n",
       "2  [{'description': 'Transferencia bancaria', 'id...             False   \n",
       "\n",
       "  condition  \n",
       "0       new  \n",
       "1      used  \n",
       "2      used  "
      ]
     },
     "execution_count": 46,
     "metadata": {},
     "output_type": "execute_result"
    }
   ],
   "source": [
    "data_train[final_variables].head(3)"
   ]
  },
  {
   "cell_type": "code",
   "execution_count": 47,
   "metadata": {},
   "outputs": [],
   "source": [
    "#pip install --upgrade transformers\n",
    "#pip install --upgrade torch"
   ]
  },
  {
   "cell_type": "code",
   "execution_count": 48,
   "metadata": {},
   "outputs": [
    {
     "data": {
      "text/plain": [
       "DistilBertModel(\n",
       "  (embeddings): Embeddings(\n",
       "    (word_embeddings): Embedding(30522, 768, padding_idx=0)\n",
       "    (position_embeddings): Embedding(512, 768)\n",
       "    (LayerNorm): LayerNorm((768,), eps=1e-12, elementwise_affine=True)\n",
       "    (dropout): Dropout(p=0.1, inplace=False)\n",
       "  )\n",
       "  (transformer): Transformer(\n",
       "    (layer): ModuleList(\n",
       "      (0-5): 6 x TransformerBlock(\n",
       "        (attention): DistilBertSdpaAttention(\n",
       "          (dropout): Dropout(p=0.1, inplace=False)\n",
       "          (q_lin): Linear(in_features=768, out_features=768, bias=True)\n",
       "          (k_lin): Linear(in_features=768, out_features=768, bias=True)\n",
       "          (v_lin): Linear(in_features=768, out_features=768, bias=True)\n",
       "          (out_lin): Linear(in_features=768, out_features=768, bias=True)\n",
       "        )\n",
       "        (sa_layer_norm): LayerNorm((768,), eps=1e-12, elementwise_affine=True)\n",
       "        (ffn): FFN(\n",
       "          (dropout): Dropout(p=0.1, inplace=False)\n",
       "          (lin1): Linear(in_features=768, out_features=3072, bias=True)\n",
       "          (lin2): Linear(in_features=3072, out_features=768, bias=True)\n",
       "          (activation): GELUActivation()\n",
       "        )\n",
       "        (output_layer_norm): LayerNorm((768,), eps=1e-12, elementwise_affine=True)\n",
       "      )\n",
       "    )\n",
       "  )\n",
       ")"
      ]
     },
     "execution_count": 48,
     "metadata": {},
     "output_type": "execute_result"
    }
   ],
   "source": [
    "from transformers import DistilBertModel, DistilBertTokenizer\n",
    "import torch\n",
    "from tqdm import tqdm\n",
    "tokenizer = DistilBertTokenizer.from_pretrained('distilbert-base-uncased')\n",
    "embeddings_model = DistilBertModel.from_pretrained('distilbert-base-uncased')\n",
    "embeddings_model.eval()"
   ]
  },
  {
   "cell_type": "code",
   "execution_count": 49,
   "metadata": {},
   "outputs": [],
   "source": [
    "# === VECTORIZE FUNCTIONS ===\n",
    "def vectorize_title_distilbert(title, tokenizer, embeddings_model):\n",
    "    \"\"\"Vectorize a title using a pre-trained DistilBERT model.\"\"\"\n",
    "    inputs = tokenizer(title, return_tensors='pt', truncation=True, padding=True, max_length=128)\n",
    "    with torch.no_grad():\n",
    "        outputs = embeddings_model(**inputs)\n",
    "    return outputs.last_hidden_state[:, 0, :].detach().numpy().flatten()\n",
    "\n",
    "def apply_embeddings(data, tokenizer, model):\n",
    "    \"\"\"Apply embeddings to a DataFrame column using a tokenizer and model.\"\"\"\n",
    "    tqdm.pandas()\n",
    "    return data.progress_apply(lambda title: vectorize_title_distilbert(title, tokenizer, embeddings_model))\n"
   ]
  },
  {
   "cell_type": "code",
   "execution_count": 50,
   "metadata": {},
   "outputs": [],
   "source": [
    "from sklearn.preprocessing import StandardScaler\n",
    "from unidecode import unidecode\n",
    "\n",
    "def filter_relevant_features(data):\n",
    "    \"\"\"Filter only the relevant columns for the analysis.\"\"\"\n",
    "    final_variables = [\n",
    "    'base_price', 'listing_type_id',\n",
    "    'warranty', 'tags', 'initial_quantity', 'sold_quantity',\n",
    "    'start_time', 'last_updated', 'shipping', 'seller_address', 'automatic_relist',\n",
    "    'non_mercado_pago_payment_methods'\n",
    "    ]\n",
    "    return data[final_variables]\n",
    "\n",
    "\n",
    "def get_dummies(data):\n",
    "    \"\"\"Convert categorical columns to dummy variables.\"\"\"\n",
    "    print('Getting dummies...')\n",
    "    categorical_cols = data.select_dtypes(include=['object', 'category']).columns\n",
    "    return pd.get_dummies(data, columns=categorical_cols, drop_first=True)\n",
    "\n",
    "\n",
    "def transform_categorical_data_train_test(train_data, test_data, threshold, column_name):\n",
    "    \"\"\"Handle high-cardinality categorical variables.\"\"\"\n",
    "    column_counts = train_data[column_name].value_counts()\n",
    "    valid_categories = column_counts[column_counts >= threshold].index\n",
    "    \n",
    "    for df in [train_data, test_data]:\n",
    "        df[column_name] = df[column_name].apply(\n",
    "            lambda x: x if x in valid_categories else 'OTHER'\n",
    "        )\n",
    "    return train_data, test_data\n",
    "\n",
    "\n",
    "def normalize_data(train_data, test_data=None, scaler=None, columns_to_scale=None):\n",
    "    if columns_to_scale is None:\n",
    "        columns_to_scale = ['base_price', 'initial_quantity', 'sold_quantity', 'city_name']\n",
    "\n",
    "    if scaler is None:\n",
    "        scaler = StandardScaler()\n",
    "        train_scaled = scaler.fit_transform(train_data[columns_to_scale])\n",
    "        test_scaled = scaler.transform(test_data[columns_to_scale]) if test_data is not None else None\n",
    "    else:\n",
    "        train_scaled = scaler.transform(train_data[columns_to_scale])\n",
    "        test_scaled = scaler.transform(test_data[columns_to_scale]) if test_data is not None else None\n",
    "\n",
    "    train_data = _replace_scaled_columns(train_data, train_scaled, columns_to_scale)\n",
    "    if test_data is not None:\n",
    "        test_data = _replace_scaled_columns(test_data, test_scaled, columns_to_scale)\n",
    "\n",
    "    return train_data, test_data, scaler\n",
    "\n",
    "# def _replace_scaled_columns(df, scaled_data, columns_to_scale):\n",
    "#     scaled_df = pd.DataFrame(scaled_data, columns=columns_to_scale, index=df.index)\n",
    "#     df.update(scaled_df)\n",
    "#     return df\n",
    "\n",
    "\n",
    "def _replace_scaled_columns(data, scaled_data, columns):\n",
    "    scaled_df = pd.DataFrame(scaled_data, columns=[f'{col}_scaled' for col in columns], index=data.index)\n",
    "    return pd.concat([data.drop(columns, axis=1), scaled_df], axis=1)\n",
    "\n",
    "\n",
    "\n",
    "def get_embeddings_title(data):\n",
    "    print('Getting embeddings...')\n",
    "    data_embeddings = apply_embeddings(data, tokenizer, embeddings_model)\n",
    "    return data_embeddings\n",
    "    \n",
    "\n",
    "def transform_warranty(value):\n",
    "    if value is None or value == \"\":\n",
    "        return \"no info\"\n",
    "    value = str(value).lower()\n",
    "    value = unidecode(value)\n",
    "    if value in [\"si\", \"sí\", \"s\", \"yes\"] or \"mes\" in value or \"ano\" in value or \"año\" in value:\n",
    "        return \"con garantia\"\n",
    "    if any(keyword in value for keyword in [\"sin garantia\", \"no\", \"ninguna\"]):\n",
    "        return \"sin garantia\"\n",
    "    if \"garantia\" in value or \"garantizamos\" in value:\n",
    "        return \"otros con garantia\"\n",
    "    return \"no info\"\n",
    "\n",
    "\n",
    "def transform_tags(data):\n",
    "    \"\"\"Transform and expand 'tags' into dummy variables.\"\"\"\n",
    "    print('Transforming tags...')\n",
    "    tags_dummies = data['tags'].explode().str.get_dummies().groupby(level=0).sum()\n",
    "    return pd.concat([data.drop(columns=['tags']), tags_dummies], axis=1)\n",
    "\n",
    "\n",
    "def transform_dates(data):\n",
    "    print('Transforming dates...')\n",
    "    \"\"\"Transform and extract features from date columns.\"\"\"\n",
    "    data['start_time'] = pd.to_datetime(data['start_time'], utc=True).dt.tz_localize(None)\n",
    "    data['last_updated'] = pd.to_datetime(data['last_updated'], utc=True).dt.tz_localize(None)\n",
    "    data['updated_since_creation'] = (data['last_updated'] - data['start_time']).dt.days\n",
    "    data['updated_label'] = (data['updated_since_creation'] >= 1).astype(int)\n",
    "    return data.drop(columns=['start_time', 'last_updated'])\n",
    "\n",
    "\n",
    "def transform_shipping(data):\n",
    "    \"\"\"Extract and transform shipping information.\"\"\"\n",
    "    print('Transforming shipping...')\n",
    "    data['local_pick_up'] = data['shipping'].apply(lambda x: x.get('local_pick_up') if isinstance(x, dict) else None)\n",
    "    data['free_shipping'] = data['shipping'].apply(lambda x: x.get('free_shipping') if isinstance(x, dict) else None)\n",
    "    data['local_pick_up'] = data['local_pick_up'].astype(int)\n",
    "    data['free_shipping'] = data['free_shipping'].astype(int)\n",
    "    return data.drop(columns ='shipping')\n",
    "\n",
    "\n",
    "def transform_automatic_relist(data):\n",
    "    print('Transforming automatic relistic')\n",
    "    data['automatic_relist'] = data['automatic_relist'].fillna(False).astype(int)\n",
    "    data['automatic_relist'] = data['automatic_relist'].astype(int)\n",
    "    return data\n",
    "\n",
    "\n",
    "def transform_address(data):\n",
    "    \"\"\"Standardize and transform address information.\"\"\"\n",
    "    print('Transforming address...')\n",
    "    def clean_text(value):\n",
    "        value = str(value).lower()\n",
    "        value = unidecode(value)\n",
    "        value = ''.join(e for e in value if e.isalnum() or e.isspace())\n",
    "        return value.strip()\n",
    "    data['city_name'] = data['seller_address'].apply(\n",
    "        lambda x: x['city']['name'] if isinstance(x, dict) and 'city' in x else None\n",
    "    )\n",
    "    data['city_name'] = data['city_name'].apply(clean_text)\n",
    "    data['city_name'] = data['city_name'].replace(['capital federal', 'caba', 'buenos aires',\n",
    "                                                    'ciudad autonoma de buenos aires'],\n",
    "                                                      'buenos aires')\n",
    "    city_counts = data['city_name'].value_counts()\n",
    "    data['city_name'] = data['city_name'].map(city_counts)\n",
    "    return data.drop(columns=['seller_address'])\n",
    "\n",
    "\n",
    "def transform_payment(data):\n",
    "    \"\"\"Transform payment method data.\"\"\"\n",
    "    print('Transforming payment')\n",
    "    def normalize_text(text):\n",
    "        return unidecode(text.lower())\n",
    "    def create_columns_payment(data):\n",
    "        categories = {\n",
    "            'credit_card': ['visa', 'mastercard', 'american express', 'visa electron',\n",
    "                             'mastercard maestro', 'diners', 'mastercard', 'american express'],\n",
    "            'bank_transfer': ['transferencia bancaria'],\n",
    "            'cash': ['efectivo'],\n",
    "            'marketplace_payment': ['mercadopago'],\n",
    "            'cheque': ['cheque certificado'],\n",
    "            'other': ['acordar con el comprador', 'giro postal']\n",
    "        }\n",
    "\n",
    "        payment_categories = {category: 0 for category in categories.keys()}\n",
    "\n",
    "        for method in data:\n",
    "            description = normalize_text(method['description'])\n",
    "            matched = False\n",
    "\n",
    "            for category, values in categories.items():\n",
    "                if description in values:\n",
    "                    payment_categories[category] = 1\n",
    "                    matched = True\n",
    "                    break\n",
    "\n",
    "            if not matched:\n",
    "                payment_categories['other'] = 1\n",
    "\n",
    "        return payment_categories\n",
    "\n",
    "    payment_columns = data['non_mercado_pago_payment_methods'].apply(create_columns_payment)\n",
    "    df_payment_methods = pd.json_normalize(payment_columns)\n",
    "    df_payment_methods.index = data.index\n",
    "    data = pd.concat([data, df_payment_methods], axis=1)\n",
    "    return data.drop(columns='non_mercado_pago_payment_methods')\n",
    "\n",
    "\n",
    "# === PIPELINE ===\n",
    "def feature_engineering(data):\n",
    "    \"\"\"Apply all feature engineering transformations.\"\"\"\n",
    "    data = filter_relevant_features(data)\n",
    "    data['warranty'] = data['warranty'].apply(transform_warranty)\n",
    "    data = transform_automatic_relist(data)\n",
    "    data = transform_tags(data)\n",
    "    data = transform_dates(data)\n",
    "    data = transform_shipping(data)\n",
    "    data = transform_address(data)\n",
    "    data = transform_payment(data)\n",
    "    data = get_dummies(data)\n",
    "    return data\n",
    "\n"
   ]
  },
  {
   "cell_type": "code",
   "execution_count": 51,
   "metadata": {},
   "outputs": [],
   "source": [
    "data_example_train = data_train.copy()\n",
    "data_example_test = data_test.copy()\n",
    "\n",
    "data_train_embeddings = data_example_train['title']\n",
    "data_test_embeddings = data_example_test['title']\n",
    "\n",
    "y_train = data_example_train['condition']\n",
    "y_test = data_example_test['condition']\n",
    "\n",
    "y_train = [0 if value == 'new' else 1 for value in y_train]\n",
    "y_test = [0 if value == 'new' else 1 for value in y_test]\n",
    "\n",
    "X_train = data_example_train.drop(columns=['condition', 'title'])\n",
    "X_test = data_example_test.drop(columns=['condition', 'title'])"
   ]
  },
  {
   "cell_type": "code",
   "execution_count": 52,
   "metadata": {},
   "outputs": [],
   "source": [
    "#X_train_embeddings = get_embeddings_title(data_train_embeddings)"
   ]
  },
  {
   "cell_type": "code",
   "execution_count": 53,
   "metadata": {},
   "outputs": [],
   "source": [
    "#X_test_embeddings = get_embeddings_title(data_test_embeddings)"
   ]
  },
  {
   "cell_type": "code",
   "execution_count": 54,
   "metadata": {},
   "outputs": [],
   "source": [
    "#embeddings_train_df = pd.DataFrame(X_train_embeddings, index=data_train_embeddings.index)\n",
    "#embeddings_test_df = pd.DataFrame(X_test_embeddings, index=data_test_embeddings.index)\n",
    "\n",
    "# Save as parquet\n",
    "#embeddings_train_df.to_parquet('train_embeddings.parquet')\n",
    "#embeddings_test_df.to_parquet('test_embeddings.parquet')"
   ]
  },
  {
   "cell_type": "code",
   "execution_count": null,
   "metadata": {},
   "outputs": [],
   "source": [
    "# Load train and test embeddings\n",
    "X_train_embeddings = pd.read_parquet('train_embeddings.parquet').title\n",
    "X_test_embeddings = pd.read_parquet('test_embeddings.parquet').title"
   ]
  },
  {
   "cell_type": "code",
   "execution_count": null,
   "metadata": {},
   "outputs": [
    {
     "name": "stdout",
     "output_type": "stream",
     "text": [
      "Transforming automatic relistic\n",
      "Transforming tags...\n",
      "Transforming dates...\n",
      "Transforming shipping...\n",
      "Transforming address...\n",
      "Transforming payment\n",
      "Getting dummies...\n",
      "Transforming automatic relistic\n",
      "Transforming tags...\n",
      "Transforming dates...\n",
      "Transforming shipping...\n",
      "Transforming address...\n",
      "Transforming payment\n",
      "Getting dummies...\n",
      "(10000, 29) (90000, 29)\n"
     ]
    }
   ],
   "source": [
    "X_train = feature_engineering(X_train.copy())\n",
    "X_test = feature_engineering(X_test.copy())\n",
    "X_train, X_test, scaler = normalize_data(X_train, test_data=X_test, scaler=None)\n",
    "print(X_test.shape, X_train.shape)"
   ]
  },
  {
   "cell_type": "code",
   "execution_count": 97,
   "metadata": {},
   "outputs": [
    {
     "name": "stdout",
     "output_type": "stream",
     "text": [
      "(90000, 29) (10000, 29)\n"
     ]
    }
   ],
   "source": [
    "print(X_train.shape, X_test.shape)"
   ]
  },
  {
   "cell_type": "code",
   "execution_count": 53,
   "metadata": {},
   "outputs": [
    {
     "data": {
      "text/plain": [
       "Index(['automatic_relist', 'dragged_bids_and_visits', 'dragged_visits',\n",
       "       'free_relist', 'good_quality_thumbnail', 'poor_quality_thumbnail',\n",
       "       'updated_since_creation', 'updated_label', 'local_pick_up',\n",
       "       'free_shipping', 'credit_card', 'bank_transfer', 'cash',\n",
       "       'marketplace_payment', 'cheque', 'other', 'listing_type_id_free',\n",
       "       'listing_type_id_gold', 'listing_type_id_gold_premium',\n",
       "       'listing_type_id_gold_pro', 'listing_type_id_gold_special',\n",
       "       'listing_type_id_silver', 'warranty_no info',\n",
       "       'warranty_otros con garantia', 'warranty_sin garantia',\n",
       "       'base_price_scaled', 'initial_quantity_scaled', 'sold_quantity_scaled',\n",
       "       'city_name_scaled'],\n",
       "      dtype='object')"
      ]
     },
     "execution_count": 53,
     "metadata": {},
     "output_type": "execute_result"
    }
   ],
   "source": [
    "X_train.columns"
   ]
  },
  {
   "cell_type": "code",
   "execution_count": 54,
   "metadata": {},
   "outputs": [
    {
     "data": {
      "text/plain": [
       "0        [-0.23838627, -0.12645388, -0.00588727, 0.0657...\n",
       "1        [-0.4463306, -0.08176899, 0.21944974, -0.19865...\n",
       "2        [-0.54447454, 0.07230966, -0.13807367, -0.2510...\n",
       "3        [-0.02424602, -0.09829326, 0.22414912, -0.0626...\n",
       "4        [-0.22592048, -0.19856855, 0.023002487, -0.087...\n",
       "                               ...                        \n",
       "89995    [-0.12316552, -0.13641241, 0.21602495, -0.0056...\n",
       "89996    [-0.30413672, -0.15171342, -0.0025725141, -0.0...\n",
       "89997    [-0.2510776, -0.106641404, 0.28247902, -0.0013...\n",
       "89998    [-0.28467005, -0.0015458642, -0.21634628, -0.2...\n",
       "89999    [-0.29161942, -0.07420416, -0.015198395, 0.021...\n",
       "Name: title, Length: 90000, dtype: object"
      ]
     },
     "execution_count": 54,
     "metadata": {},
     "output_type": "execute_result"
    }
   ],
   "source": [
    "X_train_embeddings"
   ]
  },
  {
   "cell_type": "markdown",
   "metadata": {},
   "source": [
    "## Models"
   ]
  },
  {
   "cell_type": "code",
   "execution_count": 8,
   "metadata": {},
   "outputs": [],
   "source": [
    "import xgboost as xgb\n",
    "from sklearn.metrics import accuracy_score, classification_report, confusion_matrix\n",
    "from sklearn.decomposition import PCA\n",
    "\n",
    "def train_xgboost_classifier(\n",
    "    X_train,\n",
    "    y_train,\n",
    "    X_test,\n",
    "    y_test,\n",
    "    learning_rate=0.3,\n",
    "    random_state=42,\n",
    "    use_embeddings=False,\n",
    "    X_train_embeddings=None,\n",
    "    X_test_embeddings=None,\n",
    "    use_pca=False,\n",
    "    n_components=100\n",
    "):\n",
    "    \"\"\"\n",
    "    Train an XGBoost model for classification and generate evaluation metrics.\n",
    "    Parameters:\n",
    "    - X_train: DataFrame with the training features.\n",
    "    - y_train: Series or array with the training labels.\n",
    "    - X_test: DataFrame with the test features.\n",
    "    - y_test: Series or array with the test labels.\n",
    "    - learning_rate: Learning rate for the XGBoost model (default: 0.3).\n",
    "    - random_state: Random seed for reproducibility (default: 42).\n",
    "    - use_embeddings: Whether to include embeddings in the model (default: False).\n",
    "    - X_train_embeddings: Training embeddings (optional if use_embeddings is True).\n",
    "    - X_test_embeddings: Test embeddings (optional if use_embeddings is True).\n",
    "    - use_pca: Whether to apply PCA to the combined features (default: False).\n",
    "    - n_components: Number of principal components if PCA is used (default: 100).\n",
    "\n",
    "    Returns:\n",
    "    - model: Trained XGBoost model.\n",
    "    - importance: DataFrame with features and their importance.\n",
    "    \"\"\"\n",
    "    if use_embeddings:\n",
    "        if X_train_embeddings is None or X_test_embeddings is None:\n",
    "            raise ValueError(\"X_train_embeddings y X_test_embeddings are required if use_embeddings is True.\")\n",
    "\n",
    "        X_train_embeddings_array = np.vstack(X_train_embeddings)\n",
    "        X_test_embeddings_array = np.vstack(X_test_embeddings)\n",
    "\n",
    "        X_train_embeddings_df = pd.DataFrame(\n",
    "            X_train_embeddings_array, \n",
    "            columns=[f'title_embedding_{i}' for i in range(X_train_embeddings_array.shape[1])]\n",
    "        )\n",
    "        X_test_embeddings_df = pd.DataFrame(\n",
    "            X_test_embeddings_array, \n",
    "            columns=[f'title_embedding_{i}' for i in range(X_test_embeddings_array.shape[1])]\n",
    "        )\n",
    "\n",
    "        X_train = pd.concat([X_train.reset_index(drop=True), X_train_embeddings_df.reset_index(drop=True)], axis=1)\n",
    "        X_test = pd.concat([X_test.reset_index(drop=True), X_test_embeddings_df.reset_index(drop=True)], axis=1)\n",
    "\n",
    "    if use_pca:\n",
    "        pca = PCA(n_components=n_components)\n",
    "        X_train = pca.fit_transform(X_train)\n",
    "        X_test = pca.transform(X_test)\n",
    "\n",
    "    model = xgb.XGBClassifier(\n",
    "        random_state=random_state,\n",
    "        use_label_encoder=False,\n",
    "        eval_metric='logloss',\n",
    "        learning_rate=learning_rate\n",
    "    )\n",
    "    model.fit(X_train, y_train)\n",
    "    \n",
    "    y_pred = model.predict(X_test)\n",
    "\n",
    "    accuracy = accuracy_score(y_test, y_pred)\n",
    "    print(f\"Accuracy: {accuracy:.4f}\")\n",
    "    print(\"\\nClassification Report:\")\n",
    "    print(classification_report(y_test, y_pred))\n",
    "    print(\"\\nConfusion Matrix:\")\n",
    "    print(confusion_matrix(y_test, y_pred))\n",
    "\n",
    "    if use_pca:\n",
    "        feature_names = [f'PC{i+1}' for i in range(X_train.shape[1])]\n",
    "    else:\n",
    "        feature_names = X_train.columns\n",
    "\n",
    "    importance = pd.DataFrame({\n",
    "        'Feature': feature_names,\n",
    "        'Importance': model.feature_importances_\n",
    "    }).sort_values(by='Importance', ascending=False)\n",
    "\n",
    "    print(\"\\nFeature Importances:\")\n",
    "    print(importance)\n",
    "\n",
    "    return model, X_train # return data after transformation to have a map of the final variables and replicate in new data\n"
   ]
  },
  {
   "cell_type": "markdown",
   "metadata": {},
   "source": [
    "#### Xgboost model"
   ]
  },
  {
   "cell_type": "code",
   "execution_count": 9,
   "metadata": {},
   "outputs": [
    {
     "name": "stderr",
     "output_type": "stream",
     "text": [
      "C:\\Users\\joral_08cedew\\AppData\\Roaming\\Python\\Python311\\site-packages\\xgboost\\sklearn.py:1395: UserWarning: `use_label_encoder` is deprecated in 1.7.0.\n",
      "  warnings.warn(\"`use_label_encoder` is deprecated in 1.7.0.\")\n"
     ]
    },
    {
     "name": "stdout",
     "output_type": "stream",
     "text": [
      "Accuracy: 0.8333\n",
      "\n",
      "Classification Report:\n",
      "              precision    recall  f1-score   support\n",
      "\n",
      "           0       0.85      0.84      0.85      5406\n",
      "           1       0.82      0.82      0.82      4594\n",
      "\n",
      "    accuracy                           0.83     10000\n",
      "   macro avg       0.83      0.83      0.83     10000\n",
      "weighted avg       0.83      0.83      0.83     10000\n",
      "\n",
      "\n",
      "Confusion Matrix:\n",
      "[[4560  846]\n",
      " [ 821 3773]]\n",
      "\n",
      "Feature Importances:\n",
      "                         Feature  Importance\n",
      "26       initial_quantity_scaled    0.339362\n",
      "16          listing_type_id_free    0.278366\n",
      "9                  free_shipping    0.055938\n",
      "27          sold_quantity_scaled    0.040413\n",
      "18  listing_type_id_gold_premium    0.033410\n",
      "1        dragged_bids_and_visits    0.029793\n",
      "0               automatic_relist    0.023376\n",
      "25             base_price_scaled    0.019620\n",
      "24         warranty_sin garantia    0.019234\n",
      "14                        cheque    0.018976\n",
      "22              warranty_no info    0.018520\n",
      "3                    free_relist    0.018224\n",
      "23   warranty_otros con garantia    0.015023\n",
      "20  listing_type_id_gold_special    0.014288\n",
      "13           marketplace_payment    0.010218\n",
      "28              city_name_scaled    0.009370\n",
      "15                         other    0.008510\n",
      "11                 bank_transfer    0.008336\n",
      "8                  local_pick_up    0.007603\n",
      "21        listing_type_id_silver    0.006908\n",
      "12                          cash    0.005391\n",
      "17          listing_type_id_gold    0.005171\n",
      "6         updated_since_creation    0.004917\n",
      "4         good_quality_thumbnail    0.003733\n",
      "2                 dragged_visits    0.003632\n",
      "10                   credit_card    0.001668\n",
      "5         poor_quality_thumbnail    0.000000\n",
      "7                  updated_label    0.000000\n",
      "19      listing_type_id_gold_pro    0.000000\n"
     ]
    }
   ],
   "source": [
    "model_xgboost, data_train_sample = train_xgboost_classifier(X_train,\n",
    "    y_train,\n",
    "    X_test,\n",
    "    y_test,\n",
    "    learning_rate=0.3,\n",
    "    random_state=42,\n",
    "    use_embeddings=False,\n",
    "    X_train_embeddings=None,\n",
    "    X_test_embeddings=None,\n",
    "    use_pca=False,\n",
    "    n_components=100\n",
    ")"
   ]
  },
  {
   "cell_type": "markdown",
   "metadata": {},
   "source": [
    "#### Xgboost model with embeddings"
   ]
  },
  {
   "cell_type": "code",
   "execution_count": 118,
   "metadata": {},
   "outputs": [
    {
     "name": "stderr",
     "output_type": "stream",
     "text": [
      "C:\\Users\\joral_08cedew\\AppData\\Roaming\\Python\\Python311\\site-packages\\xgboost\\sklearn.py:1395: UserWarning: `use_label_encoder` is deprecated in 1.7.0.\n",
      "  warnings.warn(\"`use_label_encoder` is deprecated in 1.7.0.\")\n"
     ]
    },
    {
     "name": "stdout",
     "output_type": "stream",
     "text": [
      "Accuracy: 0.8680\n",
      "\n",
      "Classification Report:\n",
      "              precision    recall  f1-score   support\n",
      "\n",
      "           0       0.89      0.86      0.88      5406\n",
      "           1       0.84      0.87      0.86      4594\n",
      "\n",
      "    accuracy                           0.87     10000\n",
      "   macro avg       0.87      0.87      0.87     10000\n",
      "weighted avg       0.87      0.87      0.87     10000\n",
      "\n",
      "\n",
      "Confusion Matrix:\n",
      "[[4666  740]\n",
      " [ 580 4014]]\n",
      "\n",
      "Feature Importances:\n",
      "                      Feature  Importance\n",
      "26    initial_quantity_scaled    0.120756\n",
      "16       listing_type_id_free    0.050091\n",
      "311       title_embedding_282    0.015721\n",
      "187       title_embedding_158    0.013251\n",
      "27       sold_quantity_scaled    0.012353\n",
      "..                        ...         ...\n",
      "216       title_embedding_187    0.000000\n",
      "19   listing_type_id_gold_pro    0.000000\n",
      "17       listing_type_id_gold    0.000000\n",
      "93         title_embedding_64    0.000000\n",
      "7               updated_label    0.000000\n",
      "\n",
      "[797 rows x 2 columns]\n"
     ]
    }
   ],
   "source": [
    "model_xgboost_bert, data_train_sample = train_xgboost_classifier(X_train,\n",
    "    y_train,\n",
    "    X_test,\n",
    "    y_test,\n",
    "    learning_rate=0.3,\n",
    "    random_state=42,\n",
    "    use_embeddings=True,\n",
    "    X_train_embeddings=X_train_embeddings,\n",
    "    X_test_embeddings=X_test_embeddings,\n",
    "    use_pca=False,\n",
    "    n_components=100\n",
    ")"
   ]
  },
  {
   "cell_type": "markdown",
   "metadata": {},
   "source": [
    "#### Grid search for base xgboost model"
   ]
  },
  {
   "cell_type": "code",
   "execution_count": 57,
   "metadata": {},
   "outputs": [
    {
     "name": "stderr",
     "output_type": "stream",
     "text": [
      "C:\\Users\\joral_08cedew\\AppData\\Roaming\\Python\\Python311\\site-packages\\xgboost\\sklearn.py:1395: UserWarning: `use_label_encoder` is deprecated in 1.7.0.\n",
      "  warnings.warn(\"`use_label_encoder` is deprecated in 1.7.0.\")\n",
      "C:\\Users\\joral_08cedew\\AppData\\Roaming\\Python\\Python311\\site-packages\\xgboost\\sklearn.py:1395: UserWarning: `use_label_encoder` is deprecated in 1.7.0.\n",
      "  warnings.warn(\"`use_label_encoder` is deprecated in 1.7.0.\")\n",
      "C:\\Users\\joral_08cedew\\AppData\\Roaming\\Python\\Python311\\site-packages\\xgboost\\sklearn.py:1395: UserWarning: `use_label_encoder` is deprecated in 1.7.0.\n",
      "  warnings.warn(\"`use_label_encoder` is deprecated in 1.7.0.\")\n"
     ]
    },
    {
     "name": "stdout",
     "output_type": "stream",
     "text": [
      "Starting Grid Search...\n",
      "Fitting 3 folds for each of 32 candidates, totalling 96 fits\n",
      "Best Parameters: {'colsample_bytree': 0.8, 'learning_rate': 0.1, 'max_depth': 5, 'n_estimators': 100, 'subsample': 0.8}\n",
      "Best F1 Score: 0.8421178253594596\n",
      "\n",
      "Classification Report on Test Data:\n",
      "              precision    recall  f1-score   support\n",
      "\n",
      "           0       0.85      0.86      0.85      5406\n",
      "           1       0.83      0.82      0.82      4594\n",
      "\n",
      "    accuracy                           0.84     10000\n",
      "   macro avg       0.84      0.84      0.84     10000\n",
      "weighted avg       0.84      0.84      0.84     10000\n",
      "\n",
      "\n",
      "Feature Importances:\n",
      "                         Feature  Importance\n",
      "26       initial_quantity_scaled    0.316544\n",
      "16          listing_type_id_free    0.298236\n",
      "27          sold_quantity_scaled    0.055891\n",
      "9                  free_shipping    0.037748\n",
      "1        dragged_bids_and_visits    0.034171\n",
      "25             base_price_scaled    0.028171\n",
      "0               automatic_relist    0.024261\n",
      "24         warranty_sin garantia    0.022130\n",
      "18  listing_type_id_gold_premium    0.019593\n",
      "23   warranty_otros con garantia    0.017502\n",
      "21        listing_type_id_silver    0.016809\n",
      "22              warranty_no info    0.016791\n",
      "20  listing_type_id_gold_special    0.016058\n",
      "15                         other    0.014340\n",
      "3                    free_relist    0.014199\n",
      "14                        cheque    0.011677\n",
      "28              city_name_scaled    0.008492\n",
      "13           marketplace_payment    0.007893\n",
      "11                 bank_transfer    0.007639\n",
      "12                          cash    0.006996\n",
      "8                  local_pick_up    0.005758\n",
      "6         updated_since_creation    0.005600\n",
      "7                  updated_label    0.003573\n",
      "2                 dragged_visits    0.003535\n",
      "10                   credit_card    0.003070\n",
      "17          listing_type_id_gold    0.002173\n",
      "4         good_quality_thumbnail    0.001150\n",
      "19      listing_type_id_gold_pro    0.000000\n",
      "5         poor_quality_thumbnail    0.000000\n"
     ]
    }
   ],
   "source": [
    "from sklearn.model_selection import GridSearchCV\n",
    "from sklearn.metrics import make_scorer, f1_score\n",
    "\n",
    "xgb_model = xgb.XGBClassifier(\n",
    "    random_state=42,\n",
    "    use_label_encoder=False,\n",
    "    eval_metric='logloss'\n",
    ")\n",
    "\n",
    "param_grid = {\n",
    "    'learning_rate': [0.01, 0.1],\n",
    "    'max_depth': [3, 5],\n",
    "    'n_estimators': [50, 100],\n",
    "    'subsample': [0.8, 1.0],\n",
    "    'colsample_bytree': [0.8, 1.0]\n",
    "}\n",
    "\n",
    "scorer = make_scorer(f1_score, average='weighted')\n",
    "grid_search = GridSearchCV(\n",
    "    estimator=xgb_model,\n",
    "    param_grid=param_grid,\n",
    "    scoring=scorer,\n",
    "    cv=3,  # cross validation with 3 folds\n",
    "    verbose=1,\n",
    "    n_jobs=-1\n",
    ")\n",
    "\n",
    "print(\"Starting Grid Search...\")\n",
    "grid_search.fit(X_train, y_train)\n",
    "\n",
    "print(\"Best Parameters:\", grid_search.best_params_)\n",
    "print(\"Best F1 Score:\", grid_search.best_score_)\n",
    "\n",
    "y_pred = grid_search.best_estimator_.predict(X_test)\n",
    "print(\"\\nClassification Report on Test Data:\")\n",
    "print(classification_report(y_test, y_pred))\n",
    "\n",
    "importance = pd.DataFrame({\n",
    "    'Feature': X_train.columns,\n",
    "    'Importance': grid_search.best_estimator_.feature_importances_\n",
    "}).sort_values(by='Importance', ascending=False)\n",
    "\n",
    "print(\"\\nFeature Importances:\")\n",
    "print(importance)\n"
   ]
  },
  {
   "cell_type": "code",
   "execution_count": 60,
   "metadata": {},
   "outputs": [],
   "source": [
    "from sklearn.linear_model import LogisticRegression\n",
    "from sklearn.metrics import accuracy_score, classification_report, confusion_matrix\n",
    "from sklearn.decomposition import PCA\n",
    "\n",
    "def train_logistic_regression(\n",
    "    X_train,\n",
    "    y_train,\n",
    "    X_test,\n",
    "    y_test,\n",
    "    random_state=42,\n",
    "    use_embeddings=False,\n",
    "    X_train_embeddings=None,\n",
    "    X_test_embeddings=None,\n",
    "    use_pca=False,\n",
    "    n_components=100\n",
    "):\n",
    "    \"\"\"\n",
    "    Train a Logistic Regression model for classification and generate evaluation metrics.\n",
    "\n",
    "    Parameters:\n",
    "    - X_train: DataFrame with the training features.\n",
    "    - y_train: Series or array with the training labels.\n",
    "    - X_test: DataFrame with the test features.\n",
    "    - y_test: Series or array with the test labels.\n",
    "    - random_state: Random seed for reproducibility (default: 42).\n",
    "    - use_embeddings: Whether to include embeddings in the model (default: False).\n",
    "    - X_train_embeddings: Training embeddings (optional if use_embeddings is True).\n",
    "    - X_test_embeddings: Test embeddings (optional if use_embeddings is True).\n",
    "    - use_pca: Whether to apply PCA to the features (default: False).\n",
    "    - n_components: Number of principal components if PCA is used (default: 100).\n",
    "\n",
    "    Returns:\n",
    "    - model: Trained Logistic Regression model.\n",
    "    - X_train: Transformed training data (if PCA applied or embeddings added).\n",
    "    \"\"\"\n",
    "    # Incorporate embeddings if requested\n",
    "    if use_embeddings:\n",
    "        if X_train_embeddings is None or X_test_embeddings is None:\n",
    "            raise ValueError(\"X_train_embeddings and X_test_embeddings are required if use_embeddings is True.\")\n",
    "\n",
    "        X_train_embeddings_array = np.vstack(X_train_embeddings)\n",
    "        X_test_embeddings_array = np.vstack(X_test_embeddings)\n",
    "\n",
    "        X_train_embeddings_df = pd.DataFrame(\n",
    "            X_train_embeddings_array,\n",
    "            columns=[f'title_embedding_{i}' for i in range(X_train_embeddings_array.shape[1])]\n",
    "        )\n",
    "        X_test_embeddings_df = pd.DataFrame(\n",
    "            X_test_embeddings_array,\n",
    "            columns=[f'title_embedding_{i}' for i in range(X_test_embeddings_array.shape[1])]\n",
    "        )\n",
    "\n",
    "        X_train = pd.concat([X_train.reset_index(drop=True), X_train_embeddings_df.reset_index(drop=True)], axis=1)\n",
    "        X_test = pd.concat([X_test.reset_index(drop=True), X_test_embeddings_df.reset_index(drop=True)], axis=1)\n",
    "\n",
    "    if use_pca:\n",
    "        pca = PCA(n_components=n_components, random_state=random_state)\n",
    "        X_train = pca.fit_transform(X_train)\n",
    "        X_test = pca.transform(X_test)\n",
    "\n",
    "    model = LogisticRegression(random_state=random_state, max_iter=1000)\n",
    "    model.fit(X_train, y_train)\n",
    "\n",
    "    y_pred = model.predict(X_test)\n",
    "\n",
    "    accuracy = accuracy_score(y_test, y_pred)\n",
    "    print(f\"Accuracy: {accuracy:.4f}\")\n",
    "    print(\"\\nClassification Report:\")\n",
    "    print(classification_report(y_test, y_pred))\n",
    "    print(\"\\nConfusion Matrix:\")\n",
    "    print(confusion_matrix(y_test, y_pred))\n",
    "\n",
    "    if use_pca:\n",
    "        feature_names = [f'PC{i+1}' for i in range(X_train.shape[1])]\n",
    "    else:\n",
    "        feature_names = X_train.columns\n",
    "\n",
    "    # Logistic Regression does not have built-in feature importances, so coefficients are used\n",
    "    importance = pd.DataFrame({\n",
    "        'Feature': feature_names,\n",
    "        'Coefficient': model.coef_[0]\n",
    "    }).sort_values(by='Coefficient', ascending=False)\n",
    "\n",
    "    print(\"\\nFeature Coefficients:\")\n",
    "    print(importance)\n",
    "\n",
    "    return model, X_train\n"
   ]
  },
  {
   "cell_type": "markdown",
   "metadata": {},
   "source": [
    "#### Logistic regression model (using PCA and embeddings)"
   ]
  },
  {
   "cell_type": "code",
   "execution_count": 74,
   "metadata": {},
   "outputs": [
    {
     "name": "stdout",
     "output_type": "stream",
     "text": [
      "Accuracy: 0.8379\n",
      "\n",
      "Classification Report:\n",
      "              precision    recall  f1-score   support\n",
      "\n",
      "           0       0.83      0.88      0.85      5406\n",
      "           1       0.85      0.79      0.82      4594\n",
      "\n",
      "    accuracy                           0.84     10000\n",
      "   macro avg       0.84      0.83      0.84     10000\n",
      "weighted avg       0.84      0.84      0.84     10000\n",
      "\n",
      "\n",
      "Confusion Matrix:\n",
      "[[4739  667]\n",
      " [ 954 3640]]\n",
      "\n",
      "Feature Coefficients:\n",
      "    Feature  Coefficient\n",
      "498   PC499     2.122914\n",
      "322   PC323     1.765244\n",
      "18     PC19     1.553394\n",
      "221   PC222     1.431098\n",
      "270   PC271     1.420603\n",
      "..      ...          ...\n",
      "439   PC440    -1.761669\n",
      "293   PC294    -1.835683\n",
      "25     PC26    -2.656641\n",
      "6       PC7    -3.061684\n",
      "3       PC4    -9.202062\n",
      "\n",
      "[500 rows x 2 columns]\n"
     ]
    }
   ],
   "source": [
    "model_logistic_regression = train_logistic_regression(\n",
    "    X_train,\n",
    "    y_train,\n",
    "    X_test,\n",
    "    y_test,\n",
    "    random_state=42,\n",
    "    use_embeddings=True,\n",
    "    X_train_embeddings=X_train_embeddings,\n",
    "    X_test_embeddings=X_test_embeddings,\n",
    "    use_pca=True,\n",
    "    n_components=500\n",
    ")"
   ]
  },
  {
   "cell_type": "markdown",
   "metadata": {},
   "source": [
    "#### Neural network model with embeddings"
   ]
  },
  {
   "cell_type": "code",
   "execution_count": null,
   "metadata": {},
   "outputs": [],
   "source": [
    "# pip install tensorflow"
   ]
  },
  {
   "cell_type": "code",
   "execution_count": 80,
   "metadata": {},
   "outputs": [],
   "source": [
    "from tensorflow.keras.models import Sequential\n",
    "from tensorflow.keras.layers import Dense, Dropout\n",
    "from tensorflow.keras.optimizers import Adam\n",
    "from tensorflow.keras.layers import LeakyReLU, BatchNormalization\n",
    "from tensorflow.keras.utils import to_categorical\n",
    "\n",
    "def train_nn_classifier(\n",
    "    X_train,\n",
    "    y_train,\n",
    "    X_test,\n",
    "    y_test,\n",
    "    learning_rate=0.001,\n",
    "    random_state=42,\n",
    "    use_embeddings=False,\n",
    "    X_train_embeddings=None,\n",
    "    X_test_embeddings=None,\n",
    "    use_pca=False,\n",
    "    n_components=100,\n",
    "    batch_size=32,\n",
    "    epochs=10,\n",
    "    num_classes=2\n",
    "):\n",
    "    \"\"\"\n",
    "    Train a neural network model for classification and generate evaluation metrics.\n",
    "    Parameters:\n",
    "    - X_train: DataFrame or array with the training features.\n",
    "    - y_train: Series or array with the training labels.\n",
    "    - X_test: DataFrame or array with the test features.\n",
    "    - y_test: Series or array with the test labels.\n",
    "    - learning_rate: The learning rate for the Adam optimizer (default: 0.001).\n",
    "    - random_state: Random seed for reproducibility (default: 42).\n",
    "    - use_embeddings: Whether to include embeddings in the model (default: False).\n",
    "    - X_train_embeddings: Training embeddings (optional if use_embeddings is True).\n",
    "    - X_test_embeddings: Test embeddings (optional if use_embeddings is True).\n",
    "    - use_pca: Whether to apply PCA to the combined features (default: False).\n",
    "    - n_components: Number of principal components to retain if PCA is applied (default: 100).\n",
    "    - batch_size: The batch size used in training (default: 32).\n",
    "    - epochs: Number of epochs to train the model (default: 10).\n",
    "    - num_classes: Number of output classes for classification (optional; if not provided, inferred from y_train).\n",
    "\n",
    "    Returns:\n",
    "    - model: The trained neural network model.\n",
    "    \"\"\"\n",
    "\n",
    "    if use_embeddings:\n",
    "        if X_train_embeddings is None or X_test_embeddings is None:\n",
    "            raise ValueError(\"X_train_embeddings y X_test_embeddings are required if use_embeddings is True.\")\n",
    "\n",
    "        X_train_embeddings_array = np.vstack(X_train_embeddings)\n",
    "        X_test_embeddings_array = np.vstack(X_test_embeddings)\n",
    "\n",
    "        X_train_embeddings_df = pd.DataFrame(\n",
    "            X_train_embeddings_array, \n",
    "            columns=[f'title_embedding_{i}' for i in range(X_train_embeddings_array.shape[1])]\n",
    "        )\n",
    "        X_test_embeddings_df = pd.DataFrame(\n",
    "            X_test_embeddings_array, \n",
    "            columns=[f'title_embedding_{i}' for i in range(X_test_embeddings_array.shape[1])]\n",
    "        )\n",
    "\n",
    "        X_train = pd.concat([X_train.reset_index(drop=True), X_train_embeddings_df.reset_index(drop=True)], axis=1)\n",
    "        X_test = pd.concat([X_test.reset_index(drop=True), X_test_embeddings_df.reset_index(drop=True)], axis=1)\n",
    "\n",
    "    if use_pca:\n",
    "        pca = PCA(n_components=n_components)\n",
    "        X_train = pca.fit_transform(X_train)\n",
    "        X_test = pca.transform(X_test)\n",
    "\n",
    "    # Ensure X_train and X_test are numpy arrays\n",
    "    X_train = X_train.to_numpy() if isinstance(X_train, pd.DataFrame) else np.array(X_train)\n",
    "    X_test = X_test.to_numpy() if isinstance(X_test, pd.DataFrame) else np.array(X_test)\n",
    "\n",
    "    # Ensure y_train and y_test are numpy arrays\n",
    "    y_train = np.array(y_train)\n",
    "    y_test = np.array(y_test)\n",
    "\n",
    "    # Convert labels to categorical if needed\n",
    "    if num_classes > 1:\n",
    "        y_train = to_categorical(y_train, num_classes=num_classes)\n",
    "        y_test = to_categorical(y_test, num_classes=num_classes)\n",
    "\n",
    "    # Build the Neural Network model\n",
    "    model = Sequential()\n",
    "    \n",
    "    model.add(Dense(256, input_dim=X_train.shape[1]))\n",
    "    model.add(LeakyReLU(alpha=0.1))  # LeakyReLU en lugar de ReLU\n",
    "    model.add(BatchNormalization())\n",
    "    model.add(Dropout(0.3))\n",
    "\n",
    "    model.add(Dense(128))\n",
    "    model.add(LeakyReLU(alpha=0.1))\n",
    "    model.add(BatchNormalization())\n",
    "    model.add(Dropout(0.3))\n",
    "\n",
    "    model.add(Dense(64))\n",
    "    model.add(LeakyReLU(alpha=0.1))\n",
    "    model.add(BatchNormalization())\n",
    "    model.add(Dropout(0.3))\n",
    "\n",
    "    model.add(Dense(num_classes, activation='softmax' if num_classes > 1 else 'sigmoid'))\n",
    "\n",
    "    # Compile the model\n",
    "    optimizer = Adam(learning_rate=learning_rate)\n",
    "    model.compile(optimizer=optimizer, \n",
    "                  loss='categorical_crossentropy' if num_classes > 1 else 'binary_crossentropy', \n",
    "                  metrics=['accuracy'])\n",
    "\n",
    "    # Train the model\n",
    "    history = model.fit(X_train, y_train, epochs=epochs, batch_size=batch_size, validation_data=(X_test, y_test), verbose=2)\n",
    "\n",
    "    # Predict on the test set\n",
    "    y_pred = model.predict(X_test)\n",
    "    y_pred_classes = np.argmax(y_pred, axis=1) if num_classes > 1 else (y_pred > 0.5).astype(int)\n",
    "\n",
    "    # Evaluation metrics\n",
    "    accuracy = accuracy_score(np.argmax(y_test, axis=1) if num_classes > 1 else y_test, y_pred_classes)\n",
    "    print(f\"Accuracy: {accuracy:.4f}\")\n",
    "    print(\"\\nClassification Report:\")\n",
    "    print(classification_report(np.argmax(y_test, axis=1) if num_classes > 1 else y_test, y_pred_classes))\n",
    "    print(\"\\nConfusion Matrix:\")\n",
    "    print(confusion_matrix(np.argmax(y_test, axis=1) if num_classes > 1 else y_test, y_pred_classes))\n",
    "\n",
    "    return model\n"
   ]
  },
  {
   "cell_type": "code",
   "execution_count": 82,
   "metadata": {},
   "outputs": [
    {
     "name": "stdout",
     "output_type": "stream",
     "text": [
      "Epoch 1/10\n",
      "2813/2813 - 11s - loss: 0.4524 - accuracy: 0.7930 - val_loss: 0.3886 - val_accuracy: 0.8308 - 11s/epoch - 4ms/step\n",
      "Epoch 2/10\n",
      "2813/2813 - 8s - loss: 0.4015 - accuracy: 0.8208 - val_loss: 0.3938 - val_accuracy: 0.8297 - 8s/epoch - 3ms/step\n",
      "Epoch 3/10\n",
      "2813/2813 - 8s - loss: 0.3915 - accuracy: 0.8261 - val_loss: 0.3767 - val_accuracy: 0.8370 - 8s/epoch - 3ms/step\n",
      "Epoch 4/10\n",
      "2813/2813 - 8s - loss: 0.3837 - accuracy: 0.8288 - val_loss: 0.3797 - val_accuracy: 0.8382 - 8s/epoch - 3ms/step\n",
      "Epoch 5/10\n",
      "2813/2813 - 7s - loss: 0.3778 - accuracy: 0.8332 - val_loss: 0.3853 - val_accuracy: 0.8302 - 7s/epoch - 3ms/step\n",
      "Epoch 6/10\n",
      "2813/2813 - 7s - loss: 0.3698 - accuracy: 0.8381 - val_loss: 0.3862 - val_accuracy: 0.8258 - 7s/epoch - 3ms/step\n",
      "Epoch 7/10\n",
      "2813/2813 - 7s - loss: 0.3664 - accuracy: 0.8392 - val_loss: 0.3737 - val_accuracy: 0.8449 - 7s/epoch - 3ms/step\n",
      "Epoch 8/10\n",
      "2813/2813 - 7s - loss: 0.3628 - accuracy: 0.8403 - val_loss: 0.3625 - val_accuracy: 0.8472 - 7s/epoch - 3ms/step\n",
      "Epoch 9/10\n",
      "2813/2813 - 7s - loss: 0.3598 - accuracy: 0.8410 - val_loss: 0.3653 - val_accuracy: 0.8439 - 7s/epoch - 3ms/step\n",
      "Epoch 10/10\n",
      "2813/2813 - 8s - loss: 0.3577 - accuracy: 0.8419 - val_loss: 0.3613 - val_accuracy: 0.8389 - 8s/epoch - 3ms/step\n",
      "313/313 [==============================] - 0s 941us/step\n",
      "Accuracy: 0.8389\n",
      "\n",
      "Classification Report:\n",
      "              precision    recall  f1-score   support\n",
      "\n",
      "           0       0.83      0.88      0.85      5406\n",
      "           1       0.85      0.79      0.82      4594\n",
      "\n",
      "    accuracy                           0.84     10000\n",
      "   macro avg       0.84      0.84      0.84     10000\n",
      "weighted avg       0.84      0.84      0.84     10000\n",
      "\n",
      "\n",
      "Confusion Matrix:\n",
      "[[4744  662]\n",
      " [ 949 3645]]\n"
     ]
    }
   ],
   "source": [
    "nn_model = train_nn_classifier(\n",
    "    X_train,\n",
    "    y_train,\n",
    "    X_test,\n",
    "    y_test,\n",
    "    learning_rate=0.001,\n",
    "    random_state=42,\n",
    "    use_embeddings=True,\n",
    "    X_train_embeddings=X_train_embeddings,\n",
    "    X_test_embeddings=X_test_embeddings,\n",
    "    use_pca=False,\n",
    "    n_components=100,\n",
    "    batch_size=32,\n",
    "    epochs=95,\n",
    "    num_classes=2)\n"
   ]
  },
  {
   "cell_type": "markdown",
   "metadata": {},
   "source": [
    "## Save models"
   ]
  },
  {
   "cell_type": "code",
   "execution_count": 101,
   "metadata": {},
   "outputs": [],
   "source": [
    "import pickle\n",
    "# Save model\n",
    "with open('model.pkl', 'wb') as f:\n",
    "    pickle.dump(model_xgboost_bert, f)"
   ]
  },
  {
   "cell_type": "code",
   "execution_count": 102,
   "metadata": {},
   "outputs": [],
   "source": [
    "# Load model\n",
    "with open('model.pkl', 'rb') as f:\n",
    "    model = pickle.load(f)\n",
    "\n",
    "data_example = data[-10000:]"
   ]
  },
  {
   "cell_type": "code",
   "execution_count": 88,
   "metadata": {},
   "outputs": [],
   "source": [
    "def feature_engineering_for_new_data(new_data, scaler, columns_to_scale):\n",
    "    \"\"\"\n",
    "    Process new data with the same transformations of training dataset\n",
    "    \"\"\"\n",
    "    new_data = filter_relevant_features(new_data)\n",
    "    new_data['warranty'] = new_data['warranty'].apply(transform_warranty)\n",
    "    new_data = transform_automatic_relist(new_data)\n",
    "    new_data = transform_tags(new_data)\n",
    "    new_data = transform_dates(new_data)\n",
    "    new_data = transform_shipping(new_data)\n",
    "    new_data = transform_address(new_data)\n",
    "    new_data = transform_payment(new_data)\n",
    "    \n",
    "    new_data = pd.get_dummies(new_data)\n",
    "    for col in columns_to_scale:\n",
    "        if col not in new_data.columns:\n",
    "            new_data[col] = 0\n",
    "\n",
    "    new_data_scaled = scaler.transform(new_data[columns_to_scale])\n",
    "    new_data = _replace_scaled_columns(new_data, new_data_scaled, columns_to_scale)\n",
    "\n",
    "    return new_data\n",
    "\n",
    "def align_columns(train_data, new_data):\n",
    "    \"\"\"\n",
    "    Allign new data columns with the final columns of the training dataset\n",
    "    \"\"\"\n",
    "    for col in train_data.columns:\n",
    "        if col not in new_data.columns:\n",
    "            new_data[col] = 0\n",
    "\n",
    "    new_data = new_data[train_data.columns]\n",
    "    \n",
    "    return new_data"
   ]
  },
  {
   "cell_type": "code",
   "execution_count": 103,
   "metadata": {},
   "outputs": [
    {
     "name": "stdout",
     "output_type": "stream",
     "text": [
      "Transforming automatic relistic\n",
      "Transforming tags...\n",
      "Transforming dates...\n",
      "Transforming shipping...\n",
      "Transforming address...\n",
      "Transforming payment\n"
     ]
    }
   ],
   "source": [
    "X_new = feature_engineering_for_new_data(\n",
    "    new_data=data_example.copy(), \n",
    "    scaler=scaler, \n",
    "    columns_to_scale=['base_price', 'initial_quantity', 'sold_quantity', 'city_name']\n",
    ")"
   ]
  },
  {
   "cell_type": "code",
   "execution_count": 104,
   "metadata": {},
   "outputs": [
    {
     "name": "stdout",
     "output_type": "stream",
     "text": [
      "Getting embeddings...\n"
     ]
    },
    {
     "name": "stderr",
     "output_type": "stream",
     "text": [
      "100%|██████████| 10000/10000 [01:55<00:00, 86.53it/s]\n"
     ]
    }
   ],
   "source": [
    "tokenizer = DistilBertTokenizer.from_pretrained('distilbert-base-uncased')\n",
    "embeddings_model = DistilBertModel.from_pretrained('distilbert-base-uncased')\n",
    "data_example_embeddings = get_embeddings_title(data_example['title'])\n",
    "data_example_embeddings_array = np.vstack(data_example_embeddings)\n",
    "data_example_embeddings_df = pd.DataFrame(data_example_embeddings_array, columns=[f'title_embedding_{i}' for i in range(data_example_embeddings_array.shape[1])])\n",
    "data_example_combined = pd.concat([X_new.reset_index(drop=True), data_example_embeddings_df.reset_index(drop=True)], axis=1)\n",
    "data_example_combined = align_columns(data_train_sample, data_example_combined)"
   ]
  },
  {
   "cell_type": "code",
   "execution_count": 105,
   "metadata": {},
   "outputs": [],
   "source": [
    "data_example_combined = data_example_combined[data_train_sample.columns]"
   ]
  },
  {
   "cell_type": "code",
   "execution_count": 106,
   "metadata": {},
   "outputs": [
    {
     "name": "stdout",
     "output_type": "stream",
     "text": [
      "New data prediction: [0 0 0 ... 1 1 1]\n"
     ]
    }
   ],
   "source": [
    "y_new_pred = model.predict(data_example_combined)\n",
    "print(\"New data prediction:\", y_new_pred)"
   ]
  }
 ],
 "metadata": {
  "kernelspec": {
   "display_name": "base",
   "language": "python",
   "name": "python3"
  },
  "language_info": {
   "codemirror_mode": {
    "name": "ipython",
    "version": 3
   },
   "file_extension": ".py",
   "mimetype": "text/x-python",
   "name": "python",
   "nbconvert_exporter": "python",
   "pygments_lexer": "ipython3",
   "version": "3.11.3"
  }
 },
 "nbformat": 4,
 "nbformat_minor": 2
}
